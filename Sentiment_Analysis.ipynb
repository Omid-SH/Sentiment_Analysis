{
  "nbformat": 4,
  "nbformat_minor": 0,
  "metadata": {
    "colab": {
      "name": "Sentiment_Analysis.ipynb",
      "provenance": [],
      "collapsed_sections": [
        "romR3tMkzHjQ",
        "0CV4QNSuzJp0",
        "20YkpsCs3YeN",
        "giKGHt0t8yKz",
        "aZbQ3xUDOKbo",
        "YhZS-KmurjHd"
      ]
    },
    "kernelspec": {
      "name": "python3",
      "display_name": "Python 3"
    },
    "language_info": {
      "name": "python"
    },
    "accelerator": "GPU"
  },
  "cells": [
    {
      "cell_type": "markdown",
      "source": [
        "# About\n",
        "#### In this notebook, I will analyze the sentiment of users based on their tweets. \n",
        "#### I use Sentiment140 dataset. Preprocessing contains removing all hashtags and mentions in tweets. I also remove all tweets containing links inside. Also, some routine preprocessing, such as removing numbers and punctuation marks, has been done.\n",
        "#### Models I used :\n",
        "\n",
        "\n",
        "*  One direction LSTM\n",
        "*  Bidirectional LSTM\n",
        "*  Pyramid LSTM\n",
        "*  BERT model in TensorFlow\n",
        "\n",
        "#### I did tokenizing of words and made embedding layer of the networks by myself, except for the Bert network part that I obtained the TensorFlow document rule. https://www.tensorflow.org/text/tutorials/fine_tune_bert\n",
        "\n",
        "#### I saved and uploaded the trained models and their history on the [ repository](https://github.com/Omid-SH/Sentiment_Analysis)."
      ],
      "metadata": {
        "id": "PsGFMCFIOw3i"
      }
    },
    {
      "cell_type": "code",
      "source": [
        "from google.colab import drive\n",
        "drive.mount('/content/drive')"
      ],
      "metadata": {
        "colab": {
          "base_uri": "https://localhost:8080/"
        },
        "id": "4RHqaTDQ2AXs",
        "outputId": "3a2f814d-fe20-43a6-afe0-052a64b11c5f"
      },
      "execution_count": 1,
      "outputs": [
        {
          "output_type": "stream",
          "name": "stdout",
          "text": [
            "Mounted at /content/drive\n"
          ]
        }
      ]
    },
    {
      "cell_type": "markdown",
      "source": [
        "# Imports"
      ],
      "metadata": {
        "id": "romR3tMkzHjQ"
      }
    },
    {
      "cell_type": "code",
      "source": [
        "import pandas as pd\n",
        "import numpy as np\n",
        "import re\n",
        "import time\n",
        "import pickle\n",
        "import matplotlib.pylab as plt\n",
        "import seaborn as sn\n",
        "\n",
        "import tensorflow as tf\n",
        "from tensorflow.keras.models import Sequential\n",
        "from tensorflow.keras.callbacks import LearningRateScheduler, TensorBoard\n",
        "from tensorflow.keras.layers import Dense, Input, Flatten, GaussianNoise, GaussianDropout, Dropout, BatchNormalization, Embedding, LSTM, Bidirectional\n",
        "\n",
        "\n",
        "# Imports we need for bert part\n",
        "\n",
        "import os\n",
        "\n",
        "import tensorflow_hub as hub\n",
        "import tensorflow_datasets as tfds\n",
        "tfds.disable_progress_bar()\n",
        "\n",
        "!pip install -q -U tensorflow-text\n",
        "!pip install -q tf-models-official==2.4.0\n",
        "\n",
        "from official.modeling import tf_utils\n",
        "from official import nlp\n",
        "from official.nlp import bert\n",
        "\n",
        "# Load the required submodules\n",
        "import official.nlp.optimization\n",
        "import official.nlp.bert.bert_models\n",
        "import official.nlp.bert.configs\n",
        "import official.nlp.bert.run_classifier\n",
        "import official.nlp.bert.tokenization as tokenization\n",
        "import official.nlp.data.classifier_data_lib\n",
        "import official.nlp.modeling.losses\n",
        "import official.nlp.modeling.models\n",
        "import official.nlp.modeling.networks\n",
        "from official.nlp import optimization"
      ],
      "metadata": {
        "id": "0Vz-XAugzHMZ"
      },
      "execution_count": 1,
      "outputs": []
    },
    {
      "cell_type": "markdown",
      "source": [
        "# Prepare dataset"
      ],
      "metadata": {
        "id": "0CV4QNSuzJp0"
      }
    },
    {
      "cell_type": "code",
      "execution_count": null,
      "metadata": {
        "colab": {
          "base_uri": "https://localhost:8080/"
        },
        "id": "9R0TqyEhwvOO",
        "outputId": "f170ddca-17c9-4c05-9aae-989161b5b212"
      },
      "outputs": [
        {
          "output_type": "stream",
          "name": "stdout",
          "text": [
            "--2022-01-14 08:51:15--  http://cs.stanford.edu/people/alecmgo/trainingandtestdata.zip\n",
            "Resolving cs.stanford.edu (cs.stanford.edu)... 171.64.64.64\n",
            "Connecting to cs.stanford.edu (cs.stanford.edu)|171.64.64.64|:80... connected.\n",
            "HTTP request sent, awaiting response... 301 Moved Permanently\n",
            "Location: https://cs.stanford.edu/people/alecmgo/trainingandtestdata.zip [following]\n",
            "--2022-01-14 08:51:15--  https://cs.stanford.edu/people/alecmgo/trainingandtestdata.zip\n",
            "Connecting to cs.stanford.edu (cs.stanford.edu)|171.64.64.64|:443... connected.\n",
            "HTTP request sent, awaiting response... 200 OK\n",
            "Length: 81363704 (78M) [application/zip]\n",
            "Saving to: ‘trainingandtestdata.zip’\n",
            "\n",
            "trainingandtestdata 100%[===================>]  77.59M  40.4MB/s    in 1.9s    \n",
            "\n",
            "2022-01-14 08:51:17 (40.4 MB/s) - ‘trainingandtestdata.zip’ saved [81363704/81363704]\n",
            "\n"
          ]
        }
      ],
      "source": [
        "!wget http://cs.stanford.edu/people/alecmgo/trainingandtestdata.zip"
      ]
    },
    {
      "cell_type": "code",
      "source": [
        "!unzip -q trainingandtestdata.zip"
      ],
      "metadata": {
        "id": "hNm1RQSqyU2N"
      },
      "execution_count": null,
      "outputs": []
    },
    {
      "cell_type": "code",
      "source": [
        "cols = ['sentiment','id','date','query_string','user','text'] #Defining the columns\n",
        "df = pd.read_csv('./training.1600000.processed.noemoticon.csv', header = None, encoding = 'latin-1', names = cols)\n",
        "df.head(100)"
      ],
      "metadata": {
        "colab": {
          "base_uri": "https://localhost:8080/",
          "height": 1000
        },
        "id": "R_T3dB5vzTpw",
        "outputId": "de1d2311-8233-4688-b8ce-24d692236cd3"
      },
      "execution_count": null,
      "outputs": [
        {
          "output_type": "execute_result",
          "data": {
            "text/html": [
              "\n",
              "  <div id=\"df-6467fb95-ef67-48e9-a2d9-e22dc9456c3d\">\n",
              "    <div class=\"colab-df-container\">\n",
              "      <div>\n",
              "<style scoped>\n",
              "    .dataframe tbody tr th:only-of-type {\n",
              "        vertical-align: middle;\n",
              "    }\n",
              "\n",
              "    .dataframe tbody tr th {\n",
              "        vertical-align: top;\n",
              "    }\n",
              "\n",
              "    .dataframe thead th {\n",
              "        text-align: right;\n",
              "    }\n",
              "</style>\n",
              "<table border=\"1\" class=\"dataframe\">\n",
              "  <thead>\n",
              "    <tr style=\"text-align: right;\">\n",
              "      <th></th>\n",
              "      <th>sentiment</th>\n",
              "      <th>id</th>\n",
              "      <th>date</th>\n",
              "      <th>query_string</th>\n",
              "      <th>user</th>\n",
              "      <th>text</th>\n",
              "    </tr>\n",
              "  </thead>\n",
              "  <tbody>\n",
              "    <tr>\n",
              "      <th>0</th>\n",
              "      <td>0</td>\n",
              "      <td>1467810369</td>\n",
              "      <td>Mon Apr 06 22:19:45 PDT 2009</td>\n",
              "      <td>NO_QUERY</td>\n",
              "      <td>_TheSpecialOne_</td>\n",
              "      <td>@switchfoot http://twitpic.com/2y1zl - Awww, t...</td>\n",
              "    </tr>\n",
              "    <tr>\n",
              "      <th>1</th>\n",
              "      <td>0</td>\n",
              "      <td>1467810672</td>\n",
              "      <td>Mon Apr 06 22:19:49 PDT 2009</td>\n",
              "      <td>NO_QUERY</td>\n",
              "      <td>scotthamilton</td>\n",
              "      <td>is upset that he can't update his Facebook by ...</td>\n",
              "    </tr>\n",
              "    <tr>\n",
              "      <th>2</th>\n",
              "      <td>0</td>\n",
              "      <td>1467810917</td>\n",
              "      <td>Mon Apr 06 22:19:53 PDT 2009</td>\n",
              "      <td>NO_QUERY</td>\n",
              "      <td>mattycus</td>\n",
              "      <td>@Kenichan I dived many times for the ball. Man...</td>\n",
              "    </tr>\n",
              "    <tr>\n",
              "      <th>3</th>\n",
              "      <td>0</td>\n",
              "      <td>1467811184</td>\n",
              "      <td>Mon Apr 06 22:19:57 PDT 2009</td>\n",
              "      <td>NO_QUERY</td>\n",
              "      <td>ElleCTF</td>\n",
              "      <td>my whole body feels itchy and like its on fire</td>\n",
              "    </tr>\n",
              "    <tr>\n",
              "      <th>4</th>\n",
              "      <td>0</td>\n",
              "      <td>1467811193</td>\n",
              "      <td>Mon Apr 06 22:19:57 PDT 2009</td>\n",
              "      <td>NO_QUERY</td>\n",
              "      <td>Karoli</td>\n",
              "      <td>@nationwideclass no, it's not behaving at all....</td>\n",
              "    </tr>\n",
              "    <tr>\n",
              "      <th>...</th>\n",
              "      <td>...</td>\n",
              "      <td>...</td>\n",
              "      <td>...</td>\n",
              "      <td>...</td>\n",
              "      <td>...</td>\n",
              "      <td>...</td>\n",
              "    </tr>\n",
              "    <tr>\n",
              "      <th>95</th>\n",
              "      <td>0</td>\n",
              "      <td>1467836448</td>\n",
              "      <td>Mon Apr 06 22:26:27 PDT 2009</td>\n",
              "      <td>NO_QUERY</td>\n",
              "      <td>Dogbook</td>\n",
              "      <td>Strider is a sick little puppy  http://apps.fa...</td>\n",
              "    </tr>\n",
              "    <tr>\n",
              "      <th>96</th>\n",
              "      <td>0</td>\n",
              "      <td>1467836500</td>\n",
              "      <td>Mon Apr 06 22:26:28 PDT 2009</td>\n",
              "      <td>NO_QUERY</td>\n",
              "      <td>natalieantipas</td>\n",
              "      <td>so rylee,grace...wana go steve's party or not?...</td>\n",
              "    </tr>\n",
              "    <tr>\n",
              "      <th>97</th>\n",
              "      <td>0</td>\n",
              "      <td>1467836576</td>\n",
              "      <td>Mon Apr 06 22:26:29 PDT 2009</td>\n",
              "      <td>NO_QUERY</td>\n",
              "      <td>timdonnelly</td>\n",
              "      <td>hey, I actually won one of my bracket pools! T...</td>\n",
              "    </tr>\n",
              "    <tr>\n",
              "      <th>98</th>\n",
              "      <td>0</td>\n",
              "      <td>1467836583</td>\n",
              "      <td>Mon Apr 06 22:26:29 PDT 2009</td>\n",
              "      <td>NO_QUERY</td>\n",
              "      <td>homeworld</td>\n",
              "      <td>@stark YOU don't follow me, either  and i work...</td>\n",
              "    </tr>\n",
              "    <tr>\n",
              "      <th>99</th>\n",
              "      <td>0</td>\n",
              "      <td>1467836859</td>\n",
              "      <td>Mon Apr 06 22:26:33 PDT 2009</td>\n",
              "      <td>NO_QUERY</td>\n",
              "      <td>willy_chaz</td>\n",
              "      <td>A bad nite for the favorite teams: Astros and ...</td>\n",
              "    </tr>\n",
              "  </tbody>\n",
              "</table>\n",
              "<p>100 rows × 6 columns</p>\n",
              "</div>\n",
              "      <button class=\"colab-df-convert\" onclick=\"convertToInteractive('df-6467fb95-ef67-48e9-a2d9-e22dc9456c3d')\"\n",
              "              title=\"Convert this dataframe to an interactive table.\"\n",
              "              style=\"display:none;\">\n",
              "        \n",
              "  <svg xmlns=\"http://www.w3.org/2000/svg\" height=\"24px\"viewBox=\"0 0 24 24\"\n",
              "       width=\"24px\">\n",
              "    <path d=\"M0 0h24v24H0V0z\" fill=\"none\"/>\n",
              "    <path d=\"M18.56 5.44l.94 2.06.94-2.06 2.06-.94-2.06-.94-.94-2.06-.94 2.06-2.06.94zm-11 1L8.5 8.5l.94-2.06 2.06-.94-2.06-.94L8.5 2.5l-.94 2.06-2.06.94zm10 10l.94 2.06.94-2.06 2.06-.94-2.06-.94-.94-2.06-.94 2.06-2.06.94z\"/><path d=\"M17.41 7.96l-1.37-1.37c-.4-.4-.92-.59-1.43-.59-.52 0-1.04.2-1.43.59L10.3 9.45l-7.72 7.72c-.78.78-.78 2.05 0 2.83L4 21.41c.39.39.9.59 1.41.59.51 0 1.02-.2 1.41-.59l7.78-7.78 2.81-2.81c.8-.78.8-2.07 0-2.86zM5.41 20L4 18.59l7.72-7.72 1.47 1.35L5.41 20z\"/>\n",
              "  </svg>\n",
              "      </button>\n",
              "      \n",
              "  <style>\n",
              "    .colab-df-container {\n",
              "      display:flex;\n",
              "      flex-wrap:wrap;\n",
              "      gap: 12px;\n",
              "    }\n",
              "\n",
              "    .colab-df-convert {\n",
              "      background-color: #E8F0FE;\n",
              "      border: none;\n",
              "      border-radius: 50%;\n",
              "      cursor: pointer;\n",
              "      display: none;\n",
              "      fill: #1967D2;\n",
              "      height: 32px;\n",
              "      padding: 0 0 0 0;\n",
              "      width: 32px;\n",
              "    }\n",
              "\n",
              "    .colab-df-convert:hover {\n",
              "      background-color: #E2EBFA;\n",
              "      box-shadow: 0px 1px 2px rgba(60, 64, 67, 0.3), 0px 1px 3px 1px rgba(60, 64, 67, 0.15);\n",
              "      fill: #174EA6;\n",
              "    }\n",
              "\n",
              "    [theme=dark] .colab-df-convert {\n",
              "      background-color: #3B4455;\n",
              "      fill: #D2E3FC;\n",
              "    }\n",
              "\n",
              "    [theme=dark] .colab-df-convert:hover {\n",
              "      background-color: #434B5C;\n",
              "      box-shadow: 0px 1px 3px 1px rgba(0, 0, 0, 0.15);\n",
              "      filter: drop-shadow(0px 1px 2px rgba(0, 0, 0, 0.3));\n",
              "      fill: #FFFFFF;\n",
              "    }\n",
              "  </style>\n",
              "\n",
              "      <script>\n",
              "        const buttonEl =\n",
              "          document.querySelector('#df-6467fb95-ef67-48e9-a2d9-e22dc9456c3d button.colab-df-convert');\n",
              "        buttonEl.style.display =\n",
              "          google.colab.kernel.accessAllowed ? 'block' : 'none';\n",
              "\n",
              "        async function convertToInteractive(key) {\n",
              "          const element = document.querySelector('#df-6467fb95-ef67-48e9-a2d9-e22dc9456c3d');\n",
              "          const dataTable =\n",
              "            await google.colab.kernel.invokeFunction('convertToInteractive',\n",
              "                                                     [key], {});\n",
              "          if (!dataTable) return;\n",
              "\n",
              "          const docLinkHtml = 'Like what you see? Visit the ' +\n",
              "            '<a target=\"_blank\" href=https://colab.research.google.com/notebooks/data_table.ipynb>data table notebook</a>'\n",
              "            + ' to learn more about interactive tables.';\n",
              "          element.innerHTML = '';\n",
              "          dataTable['output_type'] = 'display_data';\n",
              "          await google.colab.output.renderOutput(dataTable, element);\n",
              "          const docLink = document.createElement('div');\n",
              "          docLink.innerHTML = docLinkHtml;\n",
              "          element.appendChild(docLink);\n",
              "        }\n",
              "      </script>\n",
              "    </div>\n",
              "  </div>\n",
              "  "
            ],
            "text/plain": [
              "    sentiment  ...                                               text\n",
              "0           0  ...  @switchfoot http://twitpic.com/2y1zl - Awww, t...\n",
              "1           0  ...  is upset that he can't update his Facebook by ...\n",
              "2           0  ...  @Kenichan I dived many times for the ball. Man...\n",
              "3           0  ...    my whole body feels itchy and like its on fire \n",
              "4           0  ...  @nationwideclass no, it's not behaving at all....\n",
              "..        ...  ...                                                ...\n",
              "95          0  ...  Strider is a sick little puppy  http://apps.fa...\n",
              "96          0  ...  so rylee,grace...wana go steve's party or not?...\n",
              "97          0  ...  hey, I actually won one of my bracket pools! T...\n",
              "98          0  ...  @stark YOU don't follow me, either  and i work...\n",
              "99          0  ...  A bad nite for the favorite teams: Astros and ...\n",
              "\n",
              "[100 rows x 6 columns]"
            ]
          },
          "metadata": {},
          "execution_count": 20
        }
      ]
    },
    {
      "cell_type": "code",
      "source": [
        "df['sentiment'].unique()"
      ],
      "metadata": {
        "colab": {
          "base_uri": "https://localhost:8080/"
        },
        "id": "t9W0xiWo2Dt8",
        "outputId": "a1882b3b-316a-4f22-a48c-521e1b391da5"
      },
      "execution_count": null,
      "outputs": [
        {
          "output_type": "execute_result",
          "data": {
            "text/plain": [
              "array([0, 4])"
            ]
          },
          "metadata": {},
          "execution_count": 21
        }
      ]
    },
    {
      "cell_type": "code",
      "source": [
        "# We just need sentiment and text of each tweet\n",
        "df.drop(columns = ['id','date','query_string','user'], axis=1, inplace=True)"
      ],
      "metadata": {
        "id": "L0eiNTYC1IC6"
      },
      "execution_count": null,
      "outputs": []
    },
    {
      "cell_type": "code",
      "source": [
        "# data structure of our data\n",
        "# we will add other fileds for each data during the code\n",
        "class sentiment_data():\n",
        "  def __init__(self, label, text):\n",
        "    self.label = label\n",
        "    self.text = text"
      ],
      "metadata": {
        "id": "p5n1MBKx425G"
      },
      "execution_count": 9,
      "outputs": []
    },
    {
      "cell_type": "code",
      "source": [
        "# generate negative and positive texts and labels list\n",
        "train_data = []\n",
        "\n",
        "for index, row in df.iterrows():\n",
        "  label = 0\n",
        "  if row['sentiment'] == 4:\n",
        "    label = 1\n",
        "  train_data.append(sentiment_data(label, row['text']))"
      ],
      "metadata": {
        "id": "5Tc52NZD2p2W"
      },
      "execution_count": null,
      "outputs": []
    },
    {
      "cell_type": "code",
      "source": [
        "len(train_data)"
      ],
      "metadata": {
        "colab": {
          "base_uri": "https://localhost:8080/"
        },
        "id": "YqggkO_h3Y04",
        "outputId": "a6414e67-0786-4a95-df7c-5f4170e36fe2"
      },
      "execution_count": null,
      "outputs": [
        {
          "output_type": "execute_result",
          "data": {
            "text/plain": [
              "1600000"
            ]
          },
          "metadata": {},
          "execution_count": 25
        }
      ]
    },
    {
      "cell_type": "code",
      "source": [
        "max_l = 40 # I have run the code one time and found the max length of text after preprocessing\n",
        "# # finding maximum tweet text\n",
        "# max_l = 0\n",
        "# for item in pr_train_dataset:\n",
        "#   max_l = max(max_l, len(item.prt))\n",
        "# print(max_l)"
      ],
      "metadata": {
        "id": "7ZRgs-Fwd42U"
      },
      "execution_count": null,
      "outputs": []
    },
    {
      "cell_type": "code",
      "source": [
        "# prprocess texts\n",
        "print('prprocessing texts ... ')\n",
        "\n",
        "word2indx = {}\n",
        "word2indx['<PAD>'] = 0\n",
        "word_index = 1\n",
        "\n",
        "i_select = []\n",
        "for index, item in enumerate(train_data):\n",
        "    temp = item.text\n",
        "    temp = temp.lower()\n",
        "\n",
        "    # search for site links\n",
        "    if(not bool(re.search('http:\\/\\/[^ ]*|https:\\/\\/[^ ]*|www\\.[^ ]*', temp))):\n",
        "\n",
        "      # remove captions and mentions\n",
        "      temp = re.sub(r'@[^\\s]+', '', temp) \n",
        "      temp = re.sub(r'#[^\\s]+', '', temp) \n",
        "\n",
        "      # remove one digit characters (also removes pounctuations in our dataset texts)\n",
        "      temp = re.sub(r'(^| ).($| )', ' ', temp)\n",
        "      # remove digites more than one \n",
        "      temp = re.sub(r'(^| )\\d+($| )', ' ', temp)\n",
        "      # remove 's\n",
        "      temp = re.sub(r'\\'s($| )', '', temp) \n",
        "      # remove the an\n",
        "      temp = re.sub(r'(^| )(the|an)($| )', ' ', temp) \n",
        "\n",
        "      # remove all other nonimportand items in train_data\n",
        "      temp = re.sub('[^\\w\\s]', '', temp)\n",
        "\n",
        "      # remove all extra spaces in begginig or end of the text line\n",
        "      temp = re.sub(r'^\\s+|\\s+$', '', temp)\n",
        "\n",
        "      temp_out = np.zeros(max_l)\n",
        "      shift_temp = max_l - len(temp.split())\n",
        "\n",
        "      # add padding at the end of each sentence and bulding out tokenizer\n",
        "      for w_index, word in enumerate(temp.split()):\n",
        "        if word in word2indx.keys():\n",
        "            temp_out[shift_temp + w_index] = word2indx[word]\n",
        "        else:\n",
        "            word2indx[word] = word_index\n",
        "            temp_out[shift_temp + w_index] = word_index\n",
        "            word_index += 1\n",
        "\n",
        "      item.feature_vector = temp_out\n",
        "      i_select.append(index)\n",
        "\n",
        "    if(index%100000 == 0):\n",
        "      print(index)\n",
        "\n",
        "pr_train_dataset = []\n",
        "\n",
        "for i in i_select:\n",
        "  pr_train_dataset.append(train_data[i])\n",
        "\n",
        "print('Prprocessing texts ... Done.')"
      ],
      "metadata": {
        "colab": {
          "base_uri": "https://localhost:8080/"
        },
        "id": "2q6Ay1h6Dkmq",
        "outputId": "1ada821a-5ddf-46de-ed57-28791d739517"
      },
      "execution_count": null,
      "outputs": [
        {
          "output_type": "stream",
          "name": "stdout",
          "text": [
            "prprocessing texts ... \n",
            "0\n",
            "100000\n",
            "200000\n",
            "300000\n",
            "400000\n",
            "500000\n",
            "600000\n",
            "700000\n",
            "800000\n",
            "900000\n",
            "1000000\n",
            "1100000\n",
            "1200000\n",
            "1300000\n",
            "1400000\n",
            "1500000\n",
            "Prprocessing texts ... Done.\n"
          ]
        }
      ]
    },
    {
      "cell_type": "code",
      "source": [
        "word_index"
      ],
      "metadata": {
        "colab": {
          "base_uri": "https://localhost:8080/"
        },
        "id": "nyN3EinkhJBb",
        "outputId": "63f18504-f2ee-4cdd-937c-2efe98252a33"
      },
      "execution_count": null,
      "outputs": [
        {
          "output_type": "execute_result",
          "data": {
            "text/plain": [
              "462953"
            ]
          },
          "metadata": {},
          "execution_count": 28
        }
      ]
    },
    {
      "cell_type": "code",
      "source": [
        "len(pr_train_dataset)"
      ],
      "metadata": {
        "colab": {
          "base_uri": "https://localhost:8080/"
        },
        "id": "VeUt00Q1K_Sw",
        "outputId": "581113f0-c02a-4b6c-ee6c-0aab427ef456"
      },
      "execution_count": null,
      "outputs": [
        {
          "output_type": "execute_result",
          "data": {
            "text/plain": [
              "1523416"
            ]
          },
          "metadata": {},
          "execution_count": 29
        }
      ]
    },
    {
      "cell_type": "code",
      "source": [
        "pr_train_dataset[3721].feature_vector"
      ],
      "metadata": {
        "colab": {
          "base_uri": "https://localhost:8080/"
        },
        "id": "CRRzWkCDhccm",
        "outputId": "9c57e4b0-a7a7-4c41-eee8-702bcb95fd7a"
      },
      "execution_count": null,
      "outputs": [
        {
          "output_type": "execute_result",
          "data": {
            "text/plain": [
              "array([   0.,    0.,    0.,    0.,    0.,    0.,    0.,    0.,    0.,\n",
              "          0.,    0.,    0.,    0.,    0.,    0.,    0.,    0.,    0.,\n",
              "          0.,    0.,    0.,    0.,    0.,    0.,    0.,  606.,   49.,\n",
              "        285.,  793.,    9., 1957.,  124.,  247.,  852., 4390.,  536.,\n",
              "         49.,  241.,   57., 5899.])"
            ]
          },
          "metadata": {},
          "execution_count": 30
        }
      ]
    },
    {
      "cell_type": "code",
      "source": [
        "with open('./drive/MyDrive/data/sentiment140/train_dataset.pkl', 'wb') as f:\n",
        "    pickle.dump(pr_train_dataset, f)"
      ],
      "metadata": {
        "id": "jGNfstKiLcA0"
      },
      "execution_count": null,
      "outputs": []
    },
    {
      "cell_type": "code",
      "source": [
        "with open('./drive/MyDrive/data/sentiment140/word2indx.pkl', 'wb') as f:\n",
        "    pickle.dump(word2indx, f)"
      ],
      "metadata": {
        "id": "Kz1bvGBlivV6"
      },
      "execution_count": null,
      "outputs": []
    },
    {
      "cell_type": "code",
      "source": [
        "with open('./drive/MyDrive/data/sentiment140/train_dataset.pkl', 'rb') as f:\n",
        "    train_dataset = pickle.load(f)"
      ],
      "metadata": {
        "id": "XQBzV6QnjvhV"
      },
      "execution_count": 10,
      "outputs": []
    },
    {
      "cell_type": "code",
      "source": [
        "with open('./drive/MyDrive/data/sentiment140/word2indx.pkl', 'rb') as f:\n",
        "    word2indx = pickle.load(f)"
      ],
      "metadata": {
        "id": "em1_al4vjvXT"
      },
      "execution_count": null,
      "outputs": []
    },
    {
      "cell_type": "markdown",
      "source": [
        "## Glove"
      ],
      "metadata": {
        "id": "RM60g6oVOPyi"
      }
    },
    {
      "cell_type": "code",
      "source": [
        "!wget http://nlp.stanford.edu/data/glove.42B.300d.zip"
      ],
      "metadata": {
        "colab": {
          "base_uri": "https://localhost:8080/"
        },
        "id": "wEO46OB4NyX4",
        "outputId": "7fd0fd98-dcec-4b23-dd4a-a49a273e2ecf"
      },
      "execution_count": null,
      "outputs": [
        {
          "output_type": "stream",
          "name": "stdout",
          "text": [
            "--2022-01-14 10:53:01--  http://nlp.stanford.edu/data/glove.42B.300d.zip\n",
            "Resolving nlp.stanford.edu (nlp.stanford.edu)... 171.64.67.140\n",
            "Connecting to nlp.stanford.edu (nlp.stanford.edu)|171.64.67.140|:80... connected.\n",
            "HTTP request sent, awaiting response... 302 Found\n",
            "Location: https://nlp.stanford.edu/data/glove.42B.300d.zip [following]\n",
            "--2022-01-14 10:53:01--  https://nlp.stanford.edu/data/glove.42B.300d.zip\n",
            "Connecting to nlp.stanford.edu (nlp.stanford.edu)|171.64.67.140|:443... connected.\n",
            "HTTP request sent, awaiting response... 301 Moved Permanently\n",
            "Location: http://downloads.cs.stanford.edu/nlp/data/glove.42B.300d.zip [following]\n",
            "--2022-01-14 10:53:01--  http://downloads.cs.stanford.edu/nlp/data/glove.42B.300d.zip\n",
            "Resolving downloads.cs.stanford.edu (downloads.cs.stanford.edu)... 171.64.64.22\n",
            "Connecting to downloads.cs.stanford.edu (downloads.cs.stanford.edu)|171.64.64.22|:80... connected.\n",
            "HTTP request sent, awaiting response... 200 OK\n",
            "Length: 1877800501 (1.7G) [application/zip]\n",
            "Saving to: ‘glove.42B.300d.zip’\n",
            "\n",
            "glove.42B.300d.zip  100%[===================>]   1.75G  5.21MB/s    in 5m 53s  \n",
            "\n",
            "2022-01-14 10:58:55 (5.07 MB/s) - ‘glove.42B.300d.zip’ saved [1877800501/1877800501]\n",
            "\n"
          ]
        }
      ]
    },
    {
      "cell_type": "code",
      "source": [
        "!unzip -q glove.42B.300d.zip"
      ],
      "metadata": {
        "id": "4940qJnARDBk"
      },
      "execution_count": null,
      "outputs": []
    },
    {
      "cell_type": "code",
      "source": [
        "def load_glove_model(File):\n",
        "    print(\"Loading Glove Model\")\n",
        "    glove_model = {}\n",
        "    with open(File,'r') as f:\n",
        "        for line in f:\n",
        "            split_line = line.split()\n",
        "            word = split_line[0]\n",
        "            embedding = np.array(split_line[1:], dtype=np.float64)\n",
        "            glove_model[word] = embedding\n",
        "    print(f\"{len(glove_model)} words loaded!\")\n",
        "    return glove_model"
      ],
      "metadata": {
        "id": "JgCmAH5AOX72"
      },
      "execution_count": null,
      "outputs": []
    },
    {
      "cell_type": "code",
      "source": [
        "glove_model = load_glove_model('./glove.42B.300d.txt')\n",
        "# glove_model = load_glove_model('./drive/MyDrive/data/flick8k/glove/glove.6B.300d.txt')"
      ],
      "metadata": {
        "colab": {
          "base_uri": "https://localhost:8080/"
        },
        "id": "shGmGSouQ2JI",
        "outputId": "a5ae53b0-5e01-4aaa-a052-6ae45fbafa65"
      },
      "execution_count": null,
      "outputs": [
        {
          "output_type": "stream",
          "name": "stdout",
          "text": [
            "Loading Glove Model\n",
            "1917494 words loaded!\n"
          ]
        }
      ]
    },
    {
      "cell_type": "code",
      "source": [
        "embedding_dim = len(glove_model['apple'])\n",
        "embedding_dim"
      ],
      "metadata": {
        "colab": {
          "base_uri": "https://localhost:8080/"
        },
        "id": "f-zv3R8tRkom",
        "outputId": "2ac65bd7-43e1-4e6f-e373-3ba3ec71a756"
      },
      "execution_count": null,
      "outputs": [
        {
          "output_type": "execute_result",
          "data": {
            "text/plain": [
              "300"
            ]
          },
          "metadata": {},
          "execution_count": 9
        }
      ]
    },
    {
      "cell_type": "code",
      "source": [
        "vocab_size = len(word2indx)\n",
        "vocab_size"
      ],
      "metadata": {
        "colab": {
          "base_uri": "https://localhost:8080/"
        },
        "id": "s6m1kLjGjZ4l",
        "outputId": "0ae3f87e-36d3-4a2e-9eba-0ac89acf31a2"
      },
      "execution_count": null,
      "outputs": [
        {
          "output_type": "execute_result",
          "data": {
            "text/plain": [
              "462953"
            ]
          },
          "metadata": {},
          "execution_count": 17
        }
      ]
    },
    {
      "cell_type": "code",
      "source": [
        "def get_weight_matrix(embedding, word2indx):\n",
        "    mean = np.mean(np.array(list(embedding.values())), axis=0)\n",
        "\n",
        "    weight_matrix = np.zeros((vocab_size, embedding_dim))\n",
        "    for word, i in word2indx.items():\n",
        "        vector = embedding.get(word)\n",
        "        if vector is not None:\n",
        "            weight_matrix[i] = vector\n",
        "        else : \n",
        "            weight_matrix[i] = mean\n",
        "    return weight_matrix"
      ],
      "metadata": {
        "id": "Y4LHRiltioIa"
      },
      "execution_count": null,
      "outputs": []
    },
    {
      "cell_type": "code",
      "source": [
        "embedding_matrix = get_weight_matrix(glove_model, word2indx)"
      ],
      "metadata": {
        "id": "yEKhaXfDio6B"
      },
      "execution_count": null,
      "outputs": []
    },
    {
      "cell_type": "code",
      "source": [
        "embedding_matrix.shape"
      ],
      "metadata": {
        "colab": {
          "base_uri": "https://localhost:8080/"
        },
        "id": "m6TR0jiyl8nE",
        "outputId": "41dc9bc1-9672-4e6e-b173-b69fcb019af7"
      },
      "execution_count": null,
      "outputs": [
        {
          "output_type": "execute_result",
          "data": {
            "text/plain": [
              "(462953, 300)"
            ]
          },
          "metadata": {},
          "execution_count": 18
        }
      ]
    },
    {
      "cell_type": "code",
      "source": [
        "import pickle\n",
        "with open('./drive/MyDrive/data/sentiment140/embedding_matrix.pkl', 'wb') as f:\n",
        "    pickle.dump(embedding_matrix, f)"
      ],
      "metadata": {
        "id": "wECQspJXl-CN"
      },
      "execution_count": null,
      "outputs": []
    },
    {
      "cell_type": "code",
      "source": [
        "import pickle\n",
        "with open('./drive/MyDrive/data/sentiment140/embedding_matrix.pkl', 'rb') as f:\n",
        "    embedding_matrix = pickle.load(f)"
      ],
      "metadata": {
        "id": "E6AZ1yhg0odk"
      },
      "execution_count": 8,
      "outputs": []
    },
    {
      "cell_type": "markdown",
      "source": [
        "# Divide data into Test, Train, and Validation"
      ],
      "metadata": {
        "id": "20YkpsCs3YeN"
      }
    },
    {
      "cell_type": "code",
      "source": [
        "# find number of positive and negetive tweets\n",
        "pos_count = 0\n",
        "neg_count = 0\n",
        "for item in train_dataset:\n",
        "  if item.label == 0:\n",
        "    pos_count += 1\n",
        "  else:\n",
        "    neg_count += 1\n",
        "\n",
        "print('Posetive tweets :', pos_count)\n",
        "print('Negetive tweets :', neg_count)"
      ],
      "metadata": {
        "colab": {
          "base_uri": "https://localhost:8080/"
        },
        "id": "WGo-bE_Z1KYF",
        "outputId": "bf0891cd-d068-46bc-f91e-c488324ecc66"
      },
      "execution_count": 11,
      "outputs": [
        {
          "output_type": "stream",
          "name": "stdout",
          "text": [
            "Posetive tweets : 774507\n",
            "Negetive tweets : 748909\n"
          ]
        }
      ]
    },
    {
      "cell_type": "code",
      "source": [
        "max_l = 40\n",
        "X = np.zeros((pos_count+neg_count, max_l))\n",
        "Y = np.zeros((pos_count+neg_count, 2))\n",
        "\n",
        "for index, item in enumerate(train_dataset):\n",
        "  X[index, :] = item.feature_vector\n",
        "  if item.label == 0:\n",
        "    Y[index, :] = [1, 0]\n",
        "  else:\n",
        "    Y[index, :] = [0, 1]"
      ],
      "metadata": {
        "id": "UeaIl--k5Fqk"
      },
      "execution_count": 12,
      "outputs": []
    },
    {
      "cell_type": "code",
      "source": [
        "X[10, :]"
      ],
      "metadata": {
        "colab": {
          "base_uri": "https://localhost:8080/"
        },
        "id": "otOLSUd77Q2w",
        "outputId": "61afd64e-ffe9-46e5-81a8-d9911263021f"
      },
      "execution_count": null,
      "outputs": [
        {
          "output_type": "execute_result",
          "data": {
            "text/plain": [
              "array([ 0.,  0.,  0.,  0.,  0.,  0.,  0.,  0.,  0.,  0.,  0.,  0.,  0.,\n",
              "        0.,  0.,  0.,  0.,  0.,  0.,  0.,  0.,  0.,  0.,  0.,  0.,  0.,\n",
              "        0.,  0.,  0.,  0.,  0.,  0.,  0.,  0.,  0.,  0., 87., 88., 35.,\n",
              "       89.])"
            ]
          },
          "metadata": {},
          "execution_count": 11
        }
      ]
    },
    {
      "cell_type": "code",
      "source": [
        "# divide dataset\n",
        "\n",
        "# shaffle learning \n",
        "np.random.seed(1234321)\n",
        "permutation = np.random.choice(range(X.shape[0]), X.shape[0], False)\n",
        "X = X[permutation]\n",
        "Y = Y[permutation]\n",
        "\n",
        "# select train, test, and validation (70% 15% 15%)\n",
        "train_ratio = 0.7\n",
        "val_ratio = 0.15\n",
        "test_ratio = 0.15\n",
        "\n",
        "X_train = X[0:int(train_ratio*X.shape[0])]\n",
        "Y_train = Y[0:int(train_ratio*X.shape[0])]\n",
        "\n",
        "X_val = X[int(train_ratio*X.shape[0]):int((train_ratio + val_ratio)*X.shape[0])]\n",
        "Y_val = Y[int(train_ratio*X.shape[0]):int((train_ratio + val_ratio)*X.shape[0])]\n",
        "\n",
        "X_test = X[int((train_ratio + val_ratio)*X.shape[0]):]\n",
        "Y_test = Y[int((train_ratio + val_ratio)*X.shape[0]):]"
      ],
      "metadata": {
        "id": "FFUmSULi2Fzu"
      },
      "execution_count": 13,
      "outputs": []
    },
    {
      "cell_type": "markdown",
      "source": [
        "# Make LSTM Models"
      ],
      "metadata": {
        "id": "giKGHt0t8yKz"
      }
    },
    {
      "cell_type": "code",
      "source": [
        "embedding_matrix.shape"
      ],
      "metadata": {
        "colab": {
          "base_uri": "https://localhost:8080/"
        },
        "id": "uHdYFSxw9_mQ",
        "outputId": "11a2d189-a5e8-4833-b00f-506df181f6c2"
      },
      "execution_count": null,
      "outputs": [
        {
          "output_type": "execute_result",
          "data": {
            "text/plain": [
              "(462953, 300)"
            ]
          },
          "metadata": {},
          "execution_count": 13
        }
      ]
    },
    {
      "cell_type": "code",
      "source": [
        "# create the embedding layer\n",
        "embedding_layer = Embedding(embedding_matrix.shape[0], \n",
        "                            embedding_matrix.shape[1], \n",
        "                            weights = [embedding_matrix], \n",
        "                            input_length = max_l, \n",
        "                            trainable = False)"
      ],
      "metadata": {
        "id": "iN8dPSIEzTwo"
      },
      "execution_count": null,
      "outputs": []
    },
    {
      "cell_type": "markdown",
      "source": [
        "## One direction LSTM"
      ],
      "metadata": {
        "id": "yg26fklqN-Mh"
      }
    },
    {
      "cell_type": "code",
      "source": [
        "model = Sequential()\n",
        "model.add(embedding_layer)\n",
        "model.add(LSTM(150))\n",
        "model.add(Dense(2, activation = \"sigmoid\"))\n",
        "\n",
        "optimizer = tf.keras.optimizers.Adam(learning_rate=0.01)\n",
        "\n",
        "model.compile(optimizer= optimizer,loss='binary_crossentropy', metrics='accuracy')\n",
        "\n",
        "#Call backs\n",
        "def scheduler(epoch, lr):\n",
        "  return lr/1.07\n",
        "\n",
        "lr_cb = LearningRateScheduler(scheduler)"
      ],
      "metadata": {
        "id": "irJDj0aW9fa5"
      },
      "execution_count": null,
      "outputs": []
    },
    {
      "cell_type": "code",
      "source": [
        "model.summary()"
      ],
      "metadata": {
        "colab": {
          "base_uri": "https://localhost:8080/"
        },
        "id": "wld2WcYkABMc",
        "outputId": "daa4d459-8f51-4bb0-c9c2-30466fe32568"
      },
      "execution_count": null,
      "outputs": [
        {
          "output_type": "stream",
          "name": "stdout",
          "text": [
            "Model: \"sequential_11\"\n",
            "_________________________________________________________________\n",
            " Layer (type)                Output Shape              Param #   \n",
            "=================================================================\n",
            " embedding_2 (Embedding)     (None, 40, 300)           138885900 \n",
            "                                                                 \n",
            " lstm_11 (LSTM)              (None, 150)               270600    \n",
            "                                                                 \n",
            " dense_10 (Dense)            (None, 2)                 302       \n",
            "                                                                 \n",
            "=================================================================\n",
            "Total params: 139,156,802\n",
            "Trainable params: 270,902\n",
            "Non-trainable params: 138,885,900\n",
            "_________________________________________________________________\n"
          ]
        }
      ]
    },
    {
      "cell_type": "code",
      "source": [
        "history = model.fit(X_train, Y_train, epochs=20, batch_size=1024, validation_data=(X_val, Y_val), callbacks=[lr_cb])"
      ],
      "metadata": {
        "colab": {
          "base_uri": "https://localhost:8080/"
        },
        "id": "ClRHeo1AAIlZ",
        "outputId": "cc40a1d9-e689-4c3a-9da2-f877c53b3bc7"
      },
      "execution_count": null,
      "outputs": [
        {
          "output_type": "stream",
          "name": "stdout",
          "text": [
            "Epoch 1/20\n",
            "1042/1042 [==============================] - 70s 65ms/step - loss: 0.4230 - accuracy: 0.8033 - val_loss: 0.3966 - val_accuracy: 0.8179 - lr: 0.0093\n",
            "Epoch 2/20\n",
            "1042/1042 [==============================] - 68s 65ms/step - loss: 0.3844 - accuracy: 0.8254 - val_loss: 0.3904 - val_accuracy: 0.8210 - lr: 0.0087\n",
            "Epoch 3/20\n",
            "1042/1042 [==============================] - 68s 65ms/step - loss: 0.3675 - accuracy: 0.8347 - val_loss: 0.3897 - val_accuracy: 0.8230 - lr: 0.0082\n",
            "Epoch 4/20\n",
            "1042/1042 [==============================] - 68s 65ms/step - loss: 0.3542 - accuracy: 0.8417 - val_loss: 0.3914 - val_accuracy: 0.8230 - lr: 0.0076\n",
            "Epoch 5/20\n",
            "1042/1042 [==============================] - 68s 65ms/step - loss: 0.3415 - accuracy: 0.8486 - val_loss: 0.3945 - val_accuracy: 0.8227 - lr: 0.0071\n",
            "Epoch 6/20\n",
            "1042/1042 [==============================] - 68s 66ms/step - loss: 0.3290 - accuracy: 0.8550 - val_loss: 0.4000 - val_accuracy: 0.8221 - lr: 0.0067\n",
            "Epoch 7/20\n",
            "1042/1042 [==============================] - 68s 65ms/step - loss: 0.3173 - accuracy: 0.8609 - val_loss: 0.4075 - val_accuracy: 0.8204 - lr: 0.0062\n",
            "Epoch 8/20\n",
            "1042/1042 [==============================] - 68s 65ms/step - loss: 0.3059 - accuracy: 0.8663 - val_loss: 0.4136 - val_accuracy: 0.8188 - lr: 0.0058\n",
            "Epoch 9/20\n",
            "1042/1042 [==============================] - 68s 65ms/step - loss: 0.2957 - accuracy: 0.8718 - val_loss: 0.4217 - val_accuracy: 0.8183 - lr: 0.0054\n",
            "Epoch 10/20\n",
            "1042/1042 [==============================] - 68s 65ms/step - loss: 0.2852 - accuracy: 0.8769 - val_loss: 0.4318 - val_accuracy: 0.8158 - lr: 0.0051\n",
            "Epoch 11/20\n",
            "1042/1042 [==============================] - 68s 65ms/step - loss: 0.2760 - accuracy: 0.8812 - val_loss: 0.4411 - val_accuracy: 0.8145 - lr: 0.0048\n",
            "Epoch 12/20\n",
            "1042/1042 [==============================] - 68s 65ms/step - loss: 0.2668 - accuracy: 0.8861 - val_loss: 0.4527 - val_accuracy: 0.8138 - lr: 0.0044\n",
            "Epoch 13/20\n",
            "1042/1042 [==============================] - 68s 65ms/step - loss: 0.2580 - accuracy: 0.8903 - val_loss: 0.4637 - val_accuracy: 0.8126 - lr: 0.0041\n",
            "Epoch 14/20\n",
            "1042/1042 [==============================] - 68s 65ms/step - loss: 0.2489 - accuracy: 0.8949 - val_loss: 0.4770 - val_accuracy: 0.8121 - lr: 0.0039\n",
            "Epoch 15/20\n",
            "1042/1042 [==============================] - 68s 65ms/step - loss: 0.2407 - accuracy: 0.8988 - val_loss: 0.4896 - val_accuracy: 0.8105 - lr: 0.0036\n",
            "Epoch 16/20\n",
            "1042/1042 [==============================] - 68s 65ms/step - loss: 0.2333 - accuracy: 0.9024 - val_loss: 0.5021 - val_accuracy: 0.8091 - lr: 0.0034\n",
            "Epoch 17/20\n",
            "1042/1042 [==============================] - 68s 65ms/step - loss: 0.2261 - accuracy: 0.9060 - val_loss: 0.5136 - val_accuracy: 0.8076 - lr: 0.0032\n",
            "Epoch 18/20\n",
            "1042/1042 [==============================] - 68s 65ms/step - loss: 0.2188 - accuracy: 0.9095 - val_loss: 0.5281 - val_accuracy: 0.8068 - lr: 0.0030\n",
            "Epoch 19/20\n",
            "1042/1042 [==============================] - 68s 65ms/step - loss: 0.2124 - accuracy: 0.9128 - val_loss: 0.5392 - val_accuracy: 0.8063 - lr: 0.0028\n",
            "Epoch 20/20\n",
            "1042/1042 [==============================] - 68s 65ms/step - loss: 0.2065 - accuracy: 0.9157 - val_loss: 0.5578 - val_accuracy: 0.8048 - lr: 0.0026\n"
          ]
        }
      ]
    },
    {
      "cell_type": "code",
      "source": [
        "model.save('./drive/MyDrive/DeepLearning_HW3/Sentiment_Analysis/models/rnn_one')\n",
        "\n",
        "hist_df = pd.DataFrame(history.history)\n",
        "with open('./drive/MyDrive/DeepLearning_HW3/Sentiment_Analysis/models/rnn_one/history.csv', mode='w') as f:\n",
        "    hist_df.to_csv(f)"
      ],
      "metadata": {
        "colab": {
          "base_uri": "https://localhost:8080/",
          "height": 236
        },
        "id": "tNS2CNneKdhT",
        "outputId": "670d1789-362d-4fad-95bb-49fd1004bcf2"
      },
      "execution_count": 4,
      "outputs": [
        {
          "output_type": "error",
          "ename": "NameError",
          "evalue": "ignored",
          "traceback": [
            "\u001b[0;31m---------------------------------------------------------------------------\u001b[0m",
            "\u001b[0;31mNameError\u001b[0m                                 Traceback (most recent call last)",
            "\u001b[0;32m<ipython-input-4-7840306eeff5>\u001b[0m in \u001b[0;36m<module>\u001b[0;34m()\u001b[0m\n\u001b[0;32m----> 1\u001b[0;31m \u001b[0mmodel\u001b[0m\u001b[0;34m.\u001b[0m\u001b[0msave\u001b[0m\u001b[0;34m(\u001b[0m\u001b[0;34m'./drive/MyDrive/DeepLearning_HW3/Sentiment_Analysis/models/rnn_one'\u001b[0m\u001b[0;34m)\u001b[0m\u001b[0;34m\u001b[0m\u001b[0;34m\u001b[0m\u001b[0m\n\u001b[0m\u001b[1;32m      2\u001b[0m \u001b[0;34m\u001b[0m\u001b[0m\n\u001b[1;32m      3\u001b[0m \u001b[0mhist_df\u001b[0m \u001b[0;34m=\u001b[0m \u001b[0mpd\u001b[0m\u001b[0;34m.\u001b[0m\u001b[0mDataFrame\u001b[0m\u001b[0;34m(\u001b[0m\u001b[0mhistory\u001b[0m\u001b[0;34m.\u001b[0m\u001b[0mhistory\u001b[0m\u001b[0;34m)\u001b[0m\u001b[0;34m\u001b[0m\u001b[0;34m\u001b[0m\u001b[0m\n\u001b[1;32m      4\u001b[0m \u001b[0;32mwith\u001b[0m \u001b[0mopen\u001b[0m\u001b[0;34m(\u001b[0m\u001b[0;34m'./drive/MyDrive/DeepLearning_HW3/Sentiment_Analysis/models/rnn_one/history.csv'\u001b[0m\u001b[0;34m,\u001b[0m \u001b[0mmode\u001b[0m\u001b[0;34m=\u001b[0m\u001b[0;34m'w'\u001b[0m\u001b[0;34m)\u001b[0m \u001b[0;32mas\u001b[0m \u001b[0mf\u001b[0m\u001b[0;34m:\u001b[0m\u001b[0;34m\u001b[0m\u001b[0;34m\u001b[0m\u001b[0m\n\u001b[1;32m      5\u001b[0m     \u001b[0mhist_df\u001b[0m\u001b[0;34m.\u001b[0m\u001b[0mto_csv\u001b[0m\u001b[0;34m(\u001b[0m\u001b[0mf\u001b[0m\u001b[0;34m)\u001b[0m\u001b[0;34m\u001b[0m\u001b[0;34m\u001b[0m\u001b[0m\n",
            "\u001b[0;31mNameError\u001b[0m: name 'model' is not defined"
          ]
        }
      ]
    },
    {
      "cell_type": "code",
      "source": [
        "# Draw accuracy and loss \n",
        "history = pd.read_csv('./drive/MyDrive/DeepLearning_HW3/Sentiment_Analysis/models/rnn_one/history.csv')\n",
        "plt.rcParams['figure.figsize'] = [10, 10]\n",
        "fig = plt.figure()\n",
        "ax = fig.add_subplot(2, 2, 1)\n",
        "ax.set_title('Training Loss')\n",
        "plt.plot(range(1, len(history['loss']) + 1), history['loss'])\n",
        "ax = fig.add_subplot(2, 2, 2)\n",
        "ax.set_title('Training Accuracy')\n",
        "plt.plot(range(1, len(history['accuracy']) + 1), history['accuracy'])\n",
        "ax = fig.add_subplot(2, 2, 3)\n",
        "ax.set_title('Validation Loss')\n",
        "plt.plot(range(1, len(history['val_loss']) + 1), history['val_loss'])\n",
        "ax = fig.add_subplot(2, 2, 4)\n",
        "ax.set_title('Validation Accuracy')\n",
        "plt.plot(range(1, len(history['val_accuracy']) + 1), history['val_accuracy'])"
      ],
      "metadata": {
        "id": "9PwMzsn9ayOf",
        "colab": {
          "base_uri": "https://localhost:8080/",
          "height": 624
        },
        "outputId": "258ac402-4c7f-4fc4-fe41-120957a79f37"
      },
      "execution_count": 5,
      "outputs": [
        {
          "output_type": "execute_result",
          "data": {
            "text/plain": [
              "[<matplotlib.lines.Line2D at 0x7f1188f813d0>]"
            ]
          },
          "metadata": {},
          "execution_count": 5
        },
        {
          "output_type": "display_data",
          "data": {
            "image/png": "[encoded data removed]",
            "text/plain": [
              "<Figure size 720x720 with 4 Axes>"
            ]
          },
          "metadata": {
            "needs_background": "light"
          }
        }
      ]
    },
    {
      "cell_type": "code",
      "source": [
        "# Confusion matrix\n",
        "class_names = ['Sad', 'Happy']\n",
        "num_calsses = 2\n",
        "\n",
        "model = tf.keras.models.load_model('./drive/MyDrive/DeepLearning_HW3/Sentiment_Analysis/models/rnn_one')\n",
        "[test_loss, test_accuracy] = model.evaluate(X_test, Y_test)\n",
        "print('Test Loss = ', test_loss)\n",
        "print('Test Accuracy = ', test_accuracy)\n",
        "\n",
        "predicted_Y_test = model.predict(X_test)\n",
        "confusion_matrix = tf.math.confusion_matrix(np.argmax(Y_test, axis=-1), np.argmax(predicted_Y_test, axis=-1), num_calsses).numpy()\n",
        "confusion_matrix = confusion_matrix/confusion_matrix.sum(axis=1)\n",
        "df = pd.DataFrame(confusion_matrix, index=class_names, columns=class_names)\n",
        "plt.figure(figsize=(8, 8))\n",
        "sn.heatmap(df, annot=True, cbar=False)"
      ],
      "metadata": {
        "id": "J1q7dCjKay7E",
        "colab": {
          "base_uri": "https://localhost:8080/",
          "height": 552
        },
        "outputId": "c4bbfe71-6bc7-4199-a7e5-615e686b163a"
      },
      "execution_count": 15,
      "outputs": [
        {
          "output_type": "stream",
          "name": "stdout",
          "text": [
            "7142/7142 [==============================] - 26s 4ms/step - loss: 0.5622 - accuracy: 0.8038\n",
            "Test Loss =  0.5621944665908813\n",
            "Test Accuracy =  0.8037748336791992\n"
          ]
        },
        {
          "output_type": "execute_result",
          "data": {
            "text/plain": [
              "<matplotlib.axes._subplots.AxesSubplot at 0x7f0ff7f24e10>"
            ]
          },
          "metadata": {},
          "execution_count": 15
        },
        {
          "output_type": "display_data",
          "data": {
            "image/png": "[encoded data removed]",
            "text/plain": [
              "<Figure size 576x576 with 1 Axes>"
            ]
          },
          "metadata": {
            "needs_background": "light"
          }
        }
      ]
    },
    {
      "cell_type": "markdown",
      "source": [
        "## Two directional LSTM"
      ],
      "metadata": {
        "id": "aZbQ3xUDOKbo"
      }
    },
    {
      "cell_type": "code",
      "source": [
        "model = Sequential()\n",
        "model.add(embedding_layer)\n",
        "model.add(Bidirectional(LSTM(150)))\n",
        "model.add(Dense(2, activation = \"sigmoid\"))\n",
        "\n",
        "optimizer = tf.keras.optimizers.Adam(learning_rate=0.01)\n",
        "\n",
        "model.compile(optimizer= optimizer,loss='binary_crossentropy', metrics='accuracy')\n",
        "\n",
        "#Call backs\n",
        "def scheduler(epoch, lr):\n",
        "  return lr/1.07\n",
        "\n",
        "lr_cb = LearningRateScheduler(scheduler)"
      ],
      "metadata": {
        "id": "E0o5zFM2OM3U"
      },
      "execution_count": null,
      "outputs": []
    },
    {
      "cell_type": "code",
      "source": [
        "model.summary()"
      ],
      "metadata": {
        "colab": {
          "base_uri": "https://localhost:8080/"
        },
        "id": "YRamLUp7b9wc",
        "outputId": "a5c232b0-5e12-4810-cbb2-c0d100cb2569"
      },
      "execution_count": null,
      "outputs": [
        {
          "output_type": "stream",
          "name": "stdout",
          "text": [
            "Model: \"sequential\"\n",
            "_________________________________________________________________\n",
            " Layer (type)                Output Shape              Param #   \n",
            "=================================================================\n",
            " embedding (Embedding)       (None, 40, 300)           138885900 \n",
            "                                                                 \n",
            " bidirectional (Bidirectiona  (None, 300)              541200    \n",
            " l)                                                              \n",
            "                                                                 \n",
            " dense (Dense)               (None, 2)                 602       \n",
            "                                                                 \n",
            "=================================================================\n",
            "Total params: 139,427,702\n",
            "Trainable params: 541,802\n",
            "Non-trainable params: 138,885,900\n",
            "_________________________________________________________________\n"
          ]
        }
      ]
    },
    {
      "cell_type": "code",
      "source": [
        "history = model.fit(X_train, Y_train, epochs=10, batch_size=1024, validation_data=(X_val, Y_val), callbacks=[lr_cb])"
      ],
      "metadata": {
        "colab": {
          "base_uri": "https://localhost:8080/"
        },
        "id": "s1e4wm-6b-JX",
        "outputId": "df6f54e4-d623-4d65-d705-2591e16f504e"
      },
      "execution_count": null,
      "outputs": [
        {
          "output_type": "stream",
          "name": "stdout",
          "text": [
            "Epoch 1/10\n",
            "1042/1042 [==============================] - 144s 131ms/step - loss: 0.4231 - accuracy: 0.8035 - val_loss: 0.3971 - val_accuracy: 0.8179 - lr: 0.0093\n",
            "Epoch 2/10\n",
            "1042/1042 [==============================] - 138s 132ms/step - loss: 0.3833 - accuracy: 0.8261 - val_loss: 0.3886 - val_accuracy: 0.8230 - lr: 0.0087\n",
            "Epoch 3/10\n",
            "1042/1042 [==============================] - 138s 132ms/step - loss: 0.3670 - accuracy: 0.8349 - val_loss: 0.3897 - val_accuracy: 0.8235 - lr: 0.0082\n",
            "Epoch 4/10\n",
            "1042/1042 [==============================] - 138s 132ms/step - loss: 0.3531 - accuracy: 0.8424 - val_loss: 0.3925 - val_accuracy: 0.8228 - lr: 0.0076\n",
            "Epoch 5/10\n",
            "1042/1042 [==============================] - 138s 132ms/step - loss: 0.3407 - accuracy: 0.8492 - val_loss: 0.3935 - val_accuracy: 0.8224 - lr: 0.0071\n",
            "Epoch 6/10\n",
            "1042/1042 [==============================] - 137s 132ms/step - loss: 0.3286 - accuracy: 0.8549 - val_loss: 0.4015 - val_accuracy: 0.8219 - lr: 0.0067\n",
            "Epoch 7/10\n",
            "1042/1042 [==============================] - 138s 132ms/step - loss: 0.3171 - accuracy: 0.8612 - val_loss: 0.4054 - val_accuracy: 0.8212 - lr: 0.0062\n",
            "Epoch 8/10\n",
            "1042/1042 [==============================] - 137s 132ms/step - loss: 0.3053 - accuracy: 0.8669 - val_loss: 0.4146 - val_accuracy: 0.8191 - lr: 0.0058\n",
            "Epoch 9/10\n",
            "1042/1042 [==============================] - 137s 132ms/step - loss: 0.2947 - accuracy: 0.8724 - val_loss: 0.4235 - val_accuracy: 0.8178 - lr: 0.0054\n",
            "Epoch 10/10\n",
            "1042/1042 [==============================] - 138s 132ms/step - loss: 0.2842 - accuracy: 0.8775 - val_loss: 0.4325 - val_accuracy: 0.8171 - lr: 0.0051\n"
          ]
        }
      ]
    },
    {
      "cell_type": "code",
      "source": [
        "model.save('./drive/MyDrive/DeepLearning_HW3/Sentiment_Analysis/models/rnn_bi')\n",
        "\n",
        "hist_df = pd.DataFrame(history.history)\n",
        "with open('./drive/MyDrive/DeepLearning_HW3/Sentiment_Analysis/models/rnn_bi/history.csv', mode='w') as f:\n",
        "    hist_df.to_csv(f)"
      ],
      "metadata": {
        "colab": {
          "base_uri": "https://localhost:8080/"
        },
        "id": "xtJD0R5unVIU",
        "outputId": "915a6421-15a0-4447-80b6-157e05f35f29"
      },
      "execution_count": null,
      "outputs": [
        {
          "output_type": "stream",
          "name": "stderr",
          "text": [
            "WARNING:absl:Found untraced functions such as lstm_cell_1_layer_call_fn, lstm_cell_1_layer_call_and_return_conditional_losses, lstm_cell_2_layer_call_fn, lstm_cell_2_layer_call_and_return_conditional_losses, lstm_cell_1_layer_call_fn while saving (showing 5 of 10). These functions will not be directly callable after loading.\n"
          ]
        },
        {
          "output_type": "stream",
          "name": "stdout",
          "text": [
            "INFO:tensorflow:Assets written to: ./drive/MyDrive/DeepLearning_HW3/Sentiment_Analysis/models/rnn_bi/assets\n"
          ]
        },
        {
          "output_type": "stream",
          "name": "stderr",
          "text": [
            "INFO:tensorflow:Assets written to: ./drive/MyDrive/DeepLearning_HW3/Sentiment_Analysis/models/rnn_bi/assets\n",
            "WARNING:absl:<keras.layers.recurrent.LSTMCell object at 0x7fb9dfab47d0> has the same name 'LSTMCell' as a built-in Keras object. Consider renaming <class 'keras.layers.recurrent.LSTMCell'> to avoid naming conflicts when loading with `tf.keras.models.load_model`. If renaming is not possible, pass the object in the `custom_objects` parameter of the load function.\n",
            "WARNING:absl:<keras.layers.recurrent.LSTMCell object at 0x7fb9dfab9d90> has the same name 'LSTMCell' as a built-in Keras object. Consider renaming <class 'keras.layers.recurrent.LSTMCell'> to avoid naming conflicts when loading with `tf.keras.models.load_model`. If renaming is not possible, pass the object in the `custom_objects` parameter of the load function.\n"
          ]
        }
      ]
    },
    {
      "cell_type": "code",
      "source": [
        "# Draw accuracy and loss \n",
        "history = pd.read_csv('./drive/MyDrive/DeepLearning_HW3/Sentiment_Analysis/models/rnn_bi/history.csv')\n",
        "plt.rcParams['figure.figsize'] = [10, 10]\n",
        "fig = plt.figure()\n",
        "ax = fig.add_subplot(2, 2, 1)\n",
        "ax.set_title('Training Loss')\n",
        "plt.plot(range(1, len(history['loss']) + 1), history['loss'])\n",
        "ax = fig.add_subplot(2, 2, 2)\n",
        "ax.set_title('Training Accuracy')\n",
        "plt.plot(range(1, len(history['accuracy']) + 1), history['accuracy'])\n",
        "ax = fig.add_subplot(2, 2, 3)\n",
        "ax.set_title('Validation Loss')\n",
        "plt.plot(range(1, len(history['val_loss']) + 1), history['val_loss'])\n",
        "ax = fig.add_subplot(2, 2, 4)\n",
        "ax.set_title('Validation Accuracy')\n",
        "plt.plot(range(1, len(history['val_accuracy']) + 1), history['val_accuracy'])"
      ],
      "metadata": {
        "colab": {
          "base_uri": "https://localhost:8080/",
          "height": 625
        },
        "id": "cfvTsqjlqmkk",
        "outputId": "1f64ac1d-9111-489a-d21e-cde37b922bd4"
      },
      "execution_count": null,
      "outputs": [
        {
          "output_type": "execute_result",
          "data": {
            "text/plain": [
              "[<matplotlib.lines.Line2D at 0x7fb9d906bc90>]"
            ]
          },
          "metadata": {},
          "execution_count": 23
        },
        {
          "output_type": "display_data",
          "data": {
            "image/png": "[encoded data removed]",
            "text/plain": [
              "<Figure size 720x720 with 4 Axes>"
            ]
          },
          "metadata": {
            "needs_background": "light"
          }
        }
      ]
    },
    {
      "cell_type": "code",
      "source": [
        "# Confusion matrix\n",
        "class_names = ['Sad', 'Happy']\n",
        "num_calsses = 2\n",
        "\n",
        "model = tf.keras.models.load_model('./drive/MyDrive/DeepLearning_HW3/Sentiment_Analysis/models/rnn_bi')\n",
        "[test_loss, test_accuracy] = model.evaluate(X_test, Y_test)\n",
        "print('Test Loss = ', test_loss)\n",
        "print('Test Accuracy = ', test_accuracy)\n",
        "\n",
        "predicted_Y_test = model.predict(X_test)\n",
        "confusion_matrix = tf.math.confusion_matrix(np.argmax(Y_test, axis=-1), np.argmax(predicted_Y_test, axis=-1), num_calsses).numpy()\n",
        "confusion_matrix = confusion_matrix/confusion_matrix.sum(axis=1)\n",
        "df = pd.DataFrame(confusion_matrix, index=class_names, columns=class_names)\n",
        "plt.figure(figsize=(8, 8))\n",
        "sn.heatmap(df, annot=True, cbar=False)"
      ],
      "metadata": {
        "colab": {
          "base_uri": "https://localhost:8080/",
          "height": 556
        },
        "id": "Z2PFvej3qy53",
        "outputId": "004efad7-c722-4179-8b5a-8458ebd292bb"
      },
      "execution_count": null,
      "outputs": [
        {
          "output_type": "stream",
          "name": "stdout",
          "text": [
            "7142/7142 [==============================] - 80s 11ms/step - loss: 0.4350 - accuracy: 0.8149\n",
            "Test Loss =  0.4349540174007416\n",
            "Test Accuracy =  0.8149164319038391\n"
          ]
        },
        {
          "output_type": "execute_result",
          "data": {
            "text/plain": [
              "<matplotlib.axes._subplots.AxesSubplot at 0x7fb9cef4b690>"
            ]
          },
          "metadata": {},
          "execution_count": 37
        },
        {
          "output_type": "display_data",
          "data": {
            "image/png": "[encoded data removed]",
            "text/plain": [
              "<Figure size 576x576 with 1 Axes>"
            ]
          },
          "metadata": {
            "needs_background": "light"
          }
        }
      ]
    },
    {
      "cell_type": "markdown",
      "source": [
        "## Pyramid model"
      ],
      "metadata": {
        "id": "YhZS-KmurjHd"
      }
    },
    {
      "cell_type": "code",
      "source": [
        "input = Input(shape=max_l, name='Input')\n",
        "\n",
        "# Pyramid Layer 1\n",
        "input_1 = embedding_layer(input)\n",
        "lstm_1 = LSTM(64, return_sequences=True)(input_1)\n",
        "\n",
        "# Pyramid Layer 2\n",
        "input_2 = tf.concat([tf.gather(lstm_1, range(0, max_l, 2), axis=1), tf.gather(lstm_1, range(1, max_l+1, 2), axis=1)], axis=2)\n",
        "lstm_2 = LSTM(128, return_sequences=True)(input_2)\n",
        "\n",
        "# Pyramid Layer 3\n",
        "input_3 = tf.concat([tf.gather(lstm_2, range(0, int(max_l/2), 2), axis=1), tf.gather(lstm_2, range(1, int(max_l/2)+1, 2), axis=1)], axis=2)\n",
        "lstm_3 = LSTM(256, return_sequences=True)(input_3)\n",
        "\n",
        "# Pyramid Layer 4\n",
        "input_4 = tf.concat([tf.gather(lstm_3, range(0, int(max_l/4), 2), axis=1), tf.gather(lstm_3, range(1, int(max_l/4)+1, 2), axis=1)], axis=2)\n",
        "lstm_4 = LSTM(512)(input_4)\n",
        "\n",
        "fc = Dense(100, activation='ReLU', name='FC')(lstm_4)\n",
        "output = Dense(2, activation='sigmoid', name='Output')(fc)\n",
        "\n",
        "model = tf.keras.Model(inputs=input, outputs=output)\n",
        "\n",
        "optimizer = tf.keras.optimizers.Adam(learning_rate=0.005)\n",
        "\n",
        "model.compile(optimizer= optimizer,loss='binary_crossentropy', metrics='accuracy')\n",
        "\n",
        "#Call backs\n",
        "def scheduler(epoch, lr):\n",
        "  return lr/1.07\n",
        "\n",
        "lr_cb = LearningRateScheduler(scheduler)"
      ],
      "metadata": {
        "id": "0rj5T341riHv"
      },
      "execution_count": null,
      "outputs": []
    },
    {
      "cell_type": "code",
      "source": [
        "model.summary()"
      ],
      "metadata": {
        "id": "fcsu8EiPsn4F",
        "colab": {
          "base_uri": "https://localhost:8080/"
        },
        "outputId": "8069555b-c36d-4ee1-fc5a-96f7cc5ab6f5"
      },
      "execution_count": null,
      "outputs": [
        {
          "output_type": "stream",
          "name": "stdout",
          "text": [
            "Model: \"model\"\n",
            "__________________________________________________________________________________________________\n",
            " Layer (type)                   Output Shape         Param #     Connected to                     \n",
            "==================================================================================================\n",
            " Input (InputLayer)             [(None, 40)]         0           []                               \n",
            "                                                                                                  \n",
            " embedding (Embedding)          (None, 40, 300)      138885900   ['Input[0][0]']                  \n",
            "                                                                                                  \n",
            " lstm_1 (LSTM)                  (None, 40, 64)       93440       ['embedding[1][0]']              \n",
            "                                                                                                  \n",
            " tf.compat.v1.gather (TFOpLambd  (None, 20, 64)      0           ['lstm_1[0][0]']                 \n",
            " a)                                                                                               \n",
            "                                                                                                  \n",
            " tf.compat.v1.gather_1 (TFOpLam  (None, 20, 64)      0           ['lstm_1[0][0]']                 \n",
            " bda)                                                                                             \n",
            "                                                                                                  \n",
            " tf.concat (TFOpLambda)         (None, 20, 128)      0           ['tf.compat.v1.gather[0][0]',    \n",
            "                                                                  'tf.compat.v1.gather_1[0][0]']  \n",
            "                                                                                                  \n",
            " lstm_2 (LSTM)                  (None, 20, 128)      131584      ['tf.concat[0][0]']              \n",
            "                                                                                                  \n",
            " tf.compat.v1.gather_2 (TFOpLam  (None, 10, 128)     0           ['lstm_2[0][0]']                 \n",
            " bda)                                                                                             \n",
            "                                                                                                  \n",
            " tf.compat.v1.gather_3 (TFOpLam  (None, 10, 128)     0           ['lstm_2[0][0]']                 \n",
            " bda)                                                                                             \n",
            "                                                                                                  \n",
            " tf.concat_1 (TFOpLambda)       (None, 10, 256)      0           ['tf.compat.v1.gather_2[0][0]',  \n",
            "                                                                  'tf.compat.v1.gather_3[0][0]']  \n",
            "                                                                                                  \n",
            " lstm_3 (LSTM)                  (None, 10, 256)      525312      ['tf.concat_1[0][0]']            \n",
            "                                                                                                  \n",
            " tf.compat.v1.gather_4 (TFOpLam  (None, 5, 256)      0           ['lstm_3[0][0]']                 \n",
            " bda)                                                                                             \n",
            "                                                                                                  \n",
            " tf.compat.v1.gather_5 (TFOpLam  (None, 5, 256)      0           ['lstm_3[0][0]']                 \n",
            " bda)                                                                                             \n",
            "                                                                                                  \n",
            " tf.concat_2 (TFOpLambda)       (None, 5, 512)       0           ['tf.compat.v1.gather_4[0][0]',  \n",
            "                                                                  'tf.compat.v1.gather_5[0][0]']  \n",
            "                                                                                                  \n",
            " lstm_4 (LSTM)                  (None, 512)          2099200     ['tf.concat_2[0][0]']            \n",
            "                                                                                                  \n",
            " FC (Dense)                     (None, 100)          51300       ['lstm_4[0][0]']                 \n",
            "                                                                                                  \n",
            " Output (Dense)                 (None, 2)            202         ['FC[0][0]']                     \n",
            "                                                                                                  \n",
            "==================================================================================================\n",
            "Total params: 141,786,938\n",
            "Trainable params: 2,901,038\n",
            "Non-trainable params: 138,885,900\n",
            "__________________________________________________________________________________________________\n"
          ]
        }
      ]
    },
    {
      "cell_type": "code",
      "source": [
        "history = model.fit(X_train, Y_train, epochs=10, batch_size=1024, validation_data=(X_val, Y_val), callbacks=[lr_cb])"
      ],
      "metadata": {
        "id": "u7h_olC1sp3-",
        "colab": {
          "base_uri": "https://localhost:8080/"
        },
        "outputId": "f61c87b8-6686-4706-8937-a45ede029601"
      },
      "execution_count": null,
      "outputs": [
        {
          "output_type": "stream",
          "name": "stdout",
          "text": [
            "Epoch 1/10\n",
            "1042/1042 [==============================] - 135s 120ms/step - loss: 0.4309 - accuracy: 0.7971 - val_loss: 0.3971 - val_accuracy: 0.8193 - lr: 0.0047\n",
            "Epoch 2/10\n",
            "1042/1042 [==============================] - 123s 118ms/step - loss: 0.3860 - accuracy: 0.8251 - val_loss: 0.3867 - val_accuracy: 0.8247 - lr: 0.0044\n",
            "Epoch 3/10\n",
            "1042/1042 [==============================] - 123s 119ms/step - loss: 0.3697 - accuracy: 0.8337 - val_loss: 0.3829 - val_accuracy: 0.8263 - lr: 0.0041\n",
            "Epoch 4/10\n",
            "1042/1042 [==============================] - 123s 118ms/step - loss: 0.3569 - accuracy: 0.8404 - val_loss: 0.3855 - val_accuracy: 0.8278 - lr: 0.0038\n",
            "Epoch 5/10\n",
            "1042/1042 [==============================] - 123s 118ms/step - loss: 0.3448 - accuracy: 0.8465 - val_loss: 0.3869 - val_accuracy: 0.8249 - lr: 0.0036\n",
            "Epoch 6/10\n",
            "1042/1042 [==============================] - 123s 118ms/step - loss: 0.3322 - accuracy: 0.8530 - val_loss: 0.3938 - val_accuracy: 0.8254 - lr: 0.0033\n",
            "Epoch 7/10\n",
            "1042/1042 [==============================] - 123s 118ms/step - loss: 0.3187 - accuracy: 0.8594 - val_loss: 0.3961 - val_accuracy: 0.8223 - lr: 0.0031\n",
            "Epoch 8/10\n",
            "1042/1042 [==============================] - 123s 118ms/step - loss: 0.3045 - accuracy: 0.8665 - val_loss: 0.4137 - val_accuracy: 0.8178 - lr: 0.0029\n",
            "Epoch 9/10\n",
            "1042/1042 [==============================] - 123s 118ms/step - loss: 0.2893 - accuracy: 0.8740 - val_loss: 0.4279 - val_accuracy: 0.8176 - lr: 0.0027\n",
            "Epoch 10/10\n",
            "1042/1042 [==============================] - 123s 118ms/step - loss: 0.2729 - accuracy: 0.8816 - val_loss: 0.4493 - val_accuracy: 0.8153 - lr: 0.0025\n"
          ]
        }
      ]
    },
    {
      "cell_type": "code",
      "source": [
        "model.save('./drive/MyDrive/DeepLearning_HW3/Sentiment_Analysis/models/pyramidal_lstm')\n",
        "\n",
        "hist_df = pd.DataFrame(history.history)\n",
        "with open('./drive/MyDrive/DeepLearning_HW3/Sentiment_Analysis/models/pyramidal_lstm/history.csv', mode='w') as f:\n",
        "    hist_df.to_csv(f)"
      ],
      "metadata": {
        "colab": {
          "base_uri": "https://localhost:8080/"
        },
        "id": "eXy9xNUvaKuZ",
        "outputId": "5334a8b2-864b-4c2c-f7a8-e19d76403c98"
      },
      "execution_count": null,
      "outputs": [
        {
          "output_type": "stream",
          "name": "stderr",
          "text": [
            "WARNING:absl:Function `_wrapped_model` contains input name(s) Input with unsupported characters which will be renamed to input in the SavedModel.\n",
            "WARNING:absl:Found untraced functions such as lstm_cell_13_layer_call_fn, lstm_cell_13_layer_call_and_return_conditional_losses, lstm_cell_14_layer_call_fn, lstm_cell_14_layer_call_and_return_conditional_losses, lstm_cell_15_layer_call_fn while saving (showing 5 of 25). These functions will not be directly callable after loading.\n"
          ]
        },
        {
          "output_type": "stream",
          "name": "stdout",
          "text": [
            "INFO:tensorflow:Assets written to: ./drive/MyDrive/DeepLearning_HW3/Sentiment_Analysis/models/pyramidal_lstm/assets\n"
          ]
        },
        {
          "output_type": "stream",
          "name": "stderr",
          "text": [
            "INFO:tensorflow:Assets written to: ./drive/MyDrive/DeepLearning_HW3/Sentiment_Analysis/models/pyramidal_lstm/assets\n",
            "WARNING:absl:<keras.layers.recurrent.LSTMCell object at 0x7fb9d4731890> has the same name 'LSTMCell' as a built-in Keras object. Consider renaming <class 'keras.layers.recurrent.LSTMCell'> to avoid naming conflicts when loading with `tf.keras.models.load_model`. If renaming is not possible, pass the object in the `custom_objects` parameter of the load function.\n",
            "WARNING:absl:<keras.layers.recurrent.LSTMCell object at 0x7fb9cea4fad0> has the same name 'LSTMCell' as a built-in Keras object. Consider renaming <class 'keras.layers.recurrent.LSTMCell'> to avoid naming conflicts when loading with `tf.keras.models.load_model`. If renaming is not possible, pass the object in the `custom_objects` parameter of the load function.\n",
            "WARNING:absl:<keras.layers.recurrent.LSTMCell object at 0x7fb9ce7fc510> has the same name 'LSTMCell' as a built-in Keras object. Consider renaming <class 'keras.layers.recurrent.LSTMCell'> to avoid naming conflicts when loading with `tf.keras.models.load_model`. If renaming is not possible, pass the object in the `custom_objects` parameter of the load function.\n",
            "WARNING:absl:<keras.layers.recurrent.LSTMCell object at 0x7fb9ce9e6ed0> has the same name 'LSTMCell' as a built-in Keras object. Consider renaming <class 'keras.layers.recurrent.LSTMCell'> to avoid naming conflicts when loading with `tf.keras.models.load_model`. If renaming is not possible, pass the object in the `custom_objects` parameter of the load function.\n"
          ]
        }
      ]
    },
    {
      "cell_type": "code",
      "source": [
        "# Draw accuracy and loss \n",
        "history = pd.read_csv('./drive/MyDrive/DeepLearning_HW3/Sentiment_Analysis/models/pyramidal_lstm/history.csv')\n",
        "plt.rcParams['figure.figsize'] = [10, 10]\n",
        "fig = plt.figure()\n",
        "ax = fig.add_subplot(2, 2, 1)\n",
        "ax.set_title('Training Loss')\n",
        "plt.plot(range(1, len(history['loss']) + 1), history['loss'])\n",
        "ax = fig.add_subplot(2, 2, 2)\n",
        "ax.set_title('Training Accuracy')\n",
        "plt.plot(range(1, len(history['accuracy']) + 1), history['accuracy'])\n",
        "ax = fig.add_subplot(2, 2, 3)\n",
        "ax.set_title('Validation Loss')\n",
        "plt.plot(range(1, len(history['val_loss']) + 1), history['val_loss'])\n",
        "ax = fig.add_subplot(2, 2, 4)\n",
        "ax.set_title('Validation Accuracy')\n",
        "plt.plot(range(1, len(history['val_accuracy']) + 1), history['val_accuracy'])"
      ],
      "metadata": {
        "colab": {
          "base_uri": "https://localhost:8080/",
          "height": 625
        },
        "id": "DxSA6NFAuqK9",
        "outputId": "4eb09ec2-1888-46d1-c179-5133c9dfb64b"
      },
      "execution_count": null,
      "outputs": [
        {
          "output_type": "execute_result",
          "data": {
            "text/plain": [
              "[<matplotlib.lines.Line2D at 0x7fb9d39b69d0>]"
            ]
          },
          "metadata": {},
          "execution_count": 42
        },
        {
          "output_type": "display_data",
          "data": {
            "image/png": "[encoded data removed]",
            "text/plain": [
              "<Figure size 720x720 with 4 Axes>"
            ]
          },
          "metadata": {
            "needs_background": "light"
          }
        }
      ]
    },
    {
      "cell_type": "code",
      "source": [
        "# Confusion matrix\n",
        "class_names = ['Sad', 'Happy']\n",
        "num_calsses = 2\n",
        "\n",
        "model = tf.keras.models.load_model('./drive/MyDrive/DeepLearning_HW3/Sentiment_Analysis/models/pyramidal_lstm')\n",
        "[test_loss, test_accuracy] = model.evaluate(X_test, Y_test)\n",
        "print('Test Loss = ', test_loss)\n",
        "print('Test Accuracy = ', test_accuracy)\n",
        "\n",
        "predicted_Y_test = model.predict(X_test)\n",
        "confusion_matrix = tf.math.confusion_matrix(np.argmax(Y_test, axis=-1), np.argmax(predicted_Y_test, axis=-1), num_calsses).numpy()\n",
        "confusion_matrix = confusion_matrix/confusion_matrix.sum(axis=1)\n",
        "df = pd.DataFrame(confusion_matrix, index=class_names, columns=class_names)\n",
        "plt.figure(figsize=(8, 8))\n",
        "sn.heatmap(df, annot=True, cbar=False)"
      ],
      "metadata": {
        "colab": {
          "base_uri": "https://localhost:8080/",
          "height": 552
        },
        "id": "L0qQrK4Iuxv1",
        "outputId": "33815077-5499-4bd0-a140-bc4c7facd28e"
      },
      "execution_count": 16,
      "outputs": [
        {
          "output_type": "stream",
          "name": "stdout",
          "text": [
            "7142/7142 [==============================] - 44s 6ms/step - loss: 0.4515 - accuracy: 0.8146\n",
            "Test Loss =  0.4514535963535309\n",
            "Test Accuracy =  0.8146363496780396\n"
          ]
        },
        {
          "output_type": "execute_result",
          "data": {
            "text/plain": [
              "<matplotlib.axes._subplots.AxesSubplot at 0x7f0febfcf390>"
            ]
          },
          "metadata": {},
          "execution_count": 16
        },
        {
          "output_type": "display_data",
          "data": {
            "image/png": "[encoded data removed]",
            "text/plain": [
              "<Figure size 576x576 with 1 Axes>"
            ]
          },
          "metadata": {
            "needs_background": "light"
          }
        }
      ]
    },
    {
      "cell_type": "markdown",
      "source": [
        "# BERT (+)"
      ],
      "metadata": {
        "id": "kNLg-ATTq7jz"
      }
    },
    {
      "cell_type": "markdown",
      "source": [
        "## Prepare data"
      ],
      "metadata": {
        "id": "6dWcQTVp741h"
      }
    },
    {
      "cell_type": "code",
      "source": [
        "# prprocess texts\n",
        "print('prprocessing texts for bert ... ')\n",
        "\n",
        "for index, item in enumerate(train_dataset):\n",
        "    temp = item.text\n",
        "    temp = temp.lower()\n",
        "\n",
        "    # remove captions and mentions\n",
        "    temp = re.sub(r'@[^\\s]+', '', temp) \n",
        "    temp = re.sub(r'#[^\\s]+', '', temp) \n",
        "\n",
        "    # remove one digit characters (also removes pounctuations in our dataset texts)\n",
        "    temp = re.sub(r'(^| ).($| )', ' ', temp)\n",
        "    # remove digites more than one \n",
        "    temp = re.sub(r'(^| )\\d+($| )', ' ', temp)\n",
        "    # remove 's\n",
        "    temp = re.sub(r'\\'s($| )', '', temp) \n",
        "    # remove the an\n",
        "    temp = re.sub(r'(^| )(the|an)($| )', ' ', temp) \n",
        "\n",
        "    # remove all other nonimportand items in train_data\n",
        "    temp = re.sub('[^\\w\\s]', '', temp)\n",
        "\n",
        "    # remove all extra spaces in begginig or end of the text line\n",
        "    temp = re.sub(r'^\\s+|\\s+$', '', temp)\n",
        "\n",
        "    item.bert_text = temp\n",
        "\n",
        "    if(index%100000 == 0):\n",
        "      print(index)\n",
        "\n",
        "print('Prprocessing texts for bert ... Done.')"
      ],
      "metadata": {
        "colab": {
          "base_uri": "https://localhost:8080/"
        },
        "id": "BgxYcJlhxAuH",
        "outputId": "da74fe0e-c7c2-4248-f3af-d4314134d82c"
      },
      "execution_count": null,
      "outputs": [
        {
          "output_type": "stream",
          "name": "stdout",
          "text": [
            "prprocessing texts for bert ... \n",
            "0\n",
            "100000\n",
            "200000\n",
            "300000\n",
            "400000\n",
            "500000\n",
            "600000\n",
            "700000\n",
            "800000\n",
            "900000\n",
            "1000000\n",
            "1100000\n",
            "1200000\n",
            "1300000\n",
            "1400000\n",
            "1500000\n",
            "Prprocessing texts for bert ... Done.\n"
          ]
        }
      ]
    },
    {
      "cell_type": "code",
      "source": [
        "hub_url_bert = \"https://tfhub.dev/tensorflow/bert_en_cased_L-12_H-768_A-12/2\"\n",
        "bert_layer = hub.KerasLayer(hub_url_bert,\n",
        "                            trainable=True)"
      ],
      "metadata": {
        "id": "U0UMA_0G5ICT"
      },
      "execution_count": 4,
      "outputs": []
    },
    {
      "cell_type": "code",
      "source": [
        "vocab_file = bert_layer.resolved_object.vocab_file.asset_path.numpy()\n",
        "do_lower_case = bert_layer.resolved_object.do_lower_case.numpy()\n",
        "tokenizer = tokenization.FullTokenizer(vocab_file, do_lower_case)"
      ],
      "metadata": {
        "id": "XyURXzq45E_3"
      },
      "execution_count": 5,
      "outputs": []
    },
    {
      "cell_type": "code",
      "source": [
        "def encode_names(n, tokenizer):\n",
        "   tokens = list(tokenizer.tokenize(n))\n",
        "   tokens.append('[SEP]')\n",
        "   return tokenizer.convert_tokens_to_ids(tokens)\n",
        "\n",
        "def bert_encode(string_list, tokenizer, max_seq_length):\n",
        "  num_examples = len(string_list)\n",
        "  \n",
        "  string_tokens = tf.ragged.constant([\n",
        "      encode_names(n, tokenizer) for n in np.array(string_list)])\n",
        "\n",
        "  cls = [tokenizer.convert_tokens_to_ids(['[CLS]'])]*string_tokens.shape[0]\n",
        "  input_word_ids = tf.concat([cls, string_tokens], axis=-1)\n",
        "\n",
        "  input_mask = tf.ones_like(input_word_ids).to_tensor(shape=(None, max_seq_length))\n",
        "\n",
        "  type_cls = tf.zeros_like(cls)\n",
        "  type_tokens = tf.ones_like(string_tokens)\n",
        "  input_type_ids = tf.concat(\n",
        "      [type_cls, type_tokens], axis=-1).to_tensor(shape=(None, max_seq_length))\n",
        "\n",
        "  inputs = {\n",
        "      'input_word_ids': input_word_ids.to_tensor(shape=(None, max_seq_length)),\n",
        "      'input_mask': input_mask,\n",
        "      'input_type_ids': input_type_ids}\n",
        "\n",
        "  return inputs"
      ],
      "metadata": {
        "id": "pASJJfZ73813"
      },
      "execution_count": 3,
      "outputs": []
    },
    {
      "cell_type": "code",
      "source": [
        "max_l = 40\n",
        "X = []\n",
        "Y = np.zeros((len(train_dataset), 2))\n",
        "\n",
        "for index, item in enumerate(train_dataset):\n",
        "  X.append(item.bert_text)\n",
        "  if item.label == 0:\n",
        "    Y[index, :] = [1, 0]\n",
        "  else:\n",
        "    Y[index, :] = [0, 1]"
      ],
      "metadata": {
        "id": "Dz-HX7Ed8APA"
      },
      "execution_count": null,
      "outputs": []
    },
    {
      "cell_type": "code",
      "source": [
        "with open('./drive/MyDrive/data/sentiment140/X_bert.pkl', 'wb') as f:\n",
        "  pickle.dump(X, f)\n",
        "with open('./drive/MyDrive/data/sentiment140/Y_bert.pkl', 'wb') as f:\n",
        "  pickle.dump(Y, f)"
      ],
      "metadata": {
        "id": "w4_IkHqBJDYh"
      },
      "execution_count": null,
      "outputs": []
    },
    {
      "cell_type": "code",
      "source": [
        "with open('./drive/MyDrive/data/sentiment140/X_bert.pkl', 'rb') as f:\n",
        "  X = pickle.load(f)\n",
        "with open('./drive/MyDrive/data/sentiment140/Y_bert.pkl', 'rb') as f:\n",
        "  Y = pickle.load(f)"
      ],
      "metadata": {
        "id": "Nc95oqWOJTQF"
      },
      "execution_count": 2,
      "outputs": []
    },
    {
      "cell_type": "code",
      "source": [
        "# divide dataset\n",
        "\n",
        "# shaffle learning \n",
        "np.random.seed(1234321)\n",
        "permutation = np.random.choice(range(Y.shape[0]), Y.shape[0], False)\n",
        "X = [X[i] for i in permutation]\n",
        "Y = Y[permutation]\n",
        "\n",
        "# select train, test, and validation (70% 15% 15%)\n",
        "train_ratio = 0.5\n",
        "val_ratio = 0.1\n",
        "test_ratio = 0.1\n",
        "\n",
        "X_train = bert_encode(X[0:int(train_ratio*Y.shape[0])],tokenizer, 40)\n",
        "Y_train = Y[0:int(train_ratio*Y.shape[0])]\n",
        "\n",
        "X_val = bert_encode(X[int(train_ratio*Y.shape[0]):int((train_ratio + val_ratio)*Y.shape[0])], tokenizer, 40)\n",
        "Y_val = Y[int(train_ratio*Y.shape[0]):int((train_ratio + val_ratio)*Y.shape[0])]\n",
        "\n",
        "X_test = bert_encode(X[int((train_ratio + val_ratio)*Y.shape[0]):int((train_ratio + val_ratio + test_ratio)*Y.shape[0])], tokenizer, 40)\n",
        "Y_test = Y[int((train_ratio + val_ratio)*Y.shape[0]):int((train_ratio + val_ratio + test_ratio)*Y.shape[0])]"
      ],
      "metadata": {
        "id": "tCK0cer778GI"
      },
      "execution_count": 6,
      "outputs": []
    },
    {
      "cell_type": "code",
      "source": [
        "X_train['input_word_ids'].shape"
      ],
      "metadata": {
        "colab": {
          "base_uri": "https://localhost:8080/"
        },
        "id": "nJiwRjsiFJsy",
        "outputId": "f9d4d0e8-7aa6-4ab6-9d85-0e54e15f081b"
      },
      "execution_count": 7,
      "outputs": [
        {
          "output_type": "execute_result",
          "data": {
            "text/plain": [
              "TensorShape([761708, 40])"
            ]
          },
          "metadata": {},
          "execution_count": 7
        }
      ]
    },
    {
      "cell_type": "code",
      "source": [
        "num_class = 2\n",
        "max_seq_length = 40 \n",
        "\n",
        "input_word_ids = tf.keras.layers.Input(shape=(max_seq_length,), dtype=tf.int32,\n",
        "                                       name=\"input_word_ids\")\n",
        "input_mask = tf.keras.layers.Input(shape=(max_seq_length,), dtype=tf.int32,\n",
        "                                   name=\"input_mask\")\n",
        "segment_ids = tf.keras.layers.Input(shape=(max_seq_length,), dtype=tf.int32,\n",
        "                                    name=\"segment_ids\")\n",
        "\n",
        "pooled_output, sequence_output = bert_layer([input_word_ids, input_mask, segment_ids])                                  \n",
        "\n",
        "output = tf.keras.layers.Dropout(rate=0.3)(pooled_output)\n",
        "\n",
        "output = tf.keras.layers.Dense(num_class, activation='softmax', name='output')(output)\n",
        "\n",
        "model = tf.keras.Model(\n",
        "    inputs={\n",
        "        'input_word_ids': input_word_ids,\n",
        "        'input_mask': input_mask,\n",
        "        'input_type_ids': segment_ids\n",
        "        },\n",
        "        outputs=output)"
      ],
      "metadata": {
        "id": "nblIFrqr_cNo"
      },
      "execution_count": 8,
      "outputs": []
    },
    {
      "cell_type": "code",
      "source": [
        "model.summary()"
      ],
      "metadata": {
        "colab": {
          "base_uri": "https://localhost:8080/"
        },
        "id": "Z8augaoTaa7_",
        "outputId": "35399a10-d82f-491b-d6d0-49d641b11a55"
      },
      "execution_count": 9,
      "outputs": [
        {
          "output_type": "stream",
          "name": "stdout",
          "text": [
            "Model: \"model\"\n",
            "__________________________________________________________________________________________________\n",
            " Layer (type)                   Output Shape         Param #     Connected to                     \n",
            "==================================================================================================\n",
            " input_word_ids (InputLayer)    [(None, 40)]         0           []                               \n",
            "                                                                                                  \n",
            " input_mask (InputLayer)        [(None, 40)]         0           []                               \n",
            "                                                                                                  \n",
            " segment_ids (InputLayer)       [(None, 40)]         0           []                               \n",
            "                                                                                                  \n",
            " keras_layer (KerasLayer)       [(None, 768),        108310273   ['input_word_ids[0][0]',         \n",
            "                                 (None, 40, 768)]                 'input_mask[0][0]',             \n",
            "                                                                  'segment_ids[0][0]']            \n",
            "                                                                                                  \n",
            " dropout (Dropout)              (None, 768)          0           ['keras_layer[0][0]']            \n",
            "                                                                                                  \n",
            " output (Dense)                 (None, 2)            1538        ['dropout[0][0]']                \n",
            "                                                                                                  \n",
            "==================================================================================================\n",
            "Total params: 108,311,811\n",
            "Trainable params: 108,311,810\n",
            "Non-trainable params: 1\n",
            "__________________________________________________________________________________________________\n"
          ]
        }
      ]
    },
    {
      "cell_type": "code",
      "source": [
        "optimizer = tf.keras.optimizers.Adam(learning_rate=0.0001)\n",
        "\n",
        "model.compile(optimizer= optimizer,loss='categorical_crossentropy', metrics='accuracy')"
      ],
      "metadata": {
        "id": "iDd4g8HWSs87"
      },
      "execution_count": 10,
      "outputs": []
    },
    {
      "cell_type": "code",
      "source": [
        "history = model.fit(X_train, Y_train, epochs=1, batch_size=200, validation_data=(X_val, Y_val))"
      ],
      "metadata": {
        "colab": {
          "base_uri": "https://localhost:8080/"
        },
        "id": "wKdI0T-5S6Fx",
        "outputId": "dba50dd4-5ce1-4511-ba15-9a4d119717a0"
      },
      "execution_count": 12,
      "outputs": [
        {
          "output_type": "stream",
          "name": "stdout",
          "text": [
            "3809/3809 [==============================] - 6172s 2s/step - loss: 0.3877 - accuracy: 0.8260 - val_loss: 0.3628 - val_accuracy: 0.8374\n"
          ]
        }
      ]
    },
    {
      "cell_type": "code",
      "source": [
        "model.save('./drive/MyDrive/DeepLearning_HW3/Sentiment_Analysis/models/bert')\n",
        "\n",
        "hist_df = pd.DataFrame(history.history)\n",
        "with open('./drive/MyDrive/DeepLearning_HW3/Sentiment_Analysis/models/bert/history.csv', mode='w') as f:\n",
        "    hist_df.to_csv(f)"
      ],
      "metadata": {
        "colab": {
          "base_uri": "https://localhost:8080/"
        },
        "id": "gw8KuDFdae0F",
        "outputId": "b47f9c29-cf04-4d0e-aaa9-2b5f5e1e0c72"
      },
      "execution_count": 13,
      "outputs": [
        {
          "output_type": "stream",
          "name": "stderr",
          "text": [
            "WARNING:absl:Found untraced functions such as restored_function_body, restored_function_body, restored_function_body, restored_function_body, restored_function_body while saving (showing 5 of 945). These functions will not be directly callable after loading.\n"
          ]
        },
        {
          "output_type": "stream",
          "name": "stdout",
          "text": [
            "INFO:tensorflow:Assets written to: ./drive/MyDrive/DeepLearning_HW3/Sentiment_Analysis/models/bert/assets\n"
          ]
        },
        {
          "output_type": "stream",
          "name": "stderr",
          "text": [
            "INFO:tensorflow:Assets written to: ./drive/MyDrive/DeepLearning_HW3/Sentiment_Analysis/models/bert/assets\n"
          ]
        }
      ]
    },
    {
      "cell_type": "code",
      "source": [
        "# Draw accuracy and loss \n",
        "history = pd.read_csv('./drive/MyDrive/DeepLearning_HW3/Sentiment_Analysis/models/bert/history.csv')\n",
        "plt.rcParams['figure.figsize'] = [10, 10]\n",
        "fig = plt.figure()\n",
        "ax = fig.add_subplot(2, 2, 1)\n",
        "ax.set_title('Training Loss')\n",
        "plt.plot(range(1, len(history['loss']) + 1), history['loss'], marker = '.', markersize=10)\n",
        "ax = fig.add_subplot(2, 2, 2)\n",
        "ax.set_title('Training Accuracy')\n",
        "plt.plot(range(1, len(history['accuracy']) + 1), history['accuracy'], marker = '.', markersize=10)\n",
        "ax = fig.add_subplot(2, 2, 3)\n",
        "ax.set_title('Validation Loss')\n",
        "plt.plot(range(1, len(history['val_loss']) + 1), history['val_loss'], marker = '.', markersize=10)\n",
        "ax = fig.add_subplot(2, 2, 4)\n",
        "ax.set_title('Validation Accuracy')\n",
        "plt.plot(range(1, len(history['val_accuracy']) + 1), history['val_accuracy'], marker = '.', markersize=10)"
      ],
      "metadata": {
        "colab": {
          "base_uri": "https://localhost:8080/",
          "height": 624
        },
        "outputId": "5becbf09-f1ae-4556-89c7-94f8abdbd2a3",
        "id": "Z5mzju5CTAHG"
      },
      "execution_count": 22,
      "outputs": [
        {
          "output_type": "execute_result",
          "data": {
            "text/plain": [
              "[<matplotlib.lines.Line2D at 0x7fba53999b50>]"
            ]
          },
          "metadata": {},
          "execution_count": 22
        },
        {
          "output_type": "display_data",
          "data": {
            "image/png": "[encoded data removed]",
            "text/plain": [
              "<Figure size 720x720 with 4 Axes>"
            ]
          },
          "metadata": {
            "needs_background": "light"
          }
        }
      ]
    },
    {
      "cell_type": "code",
      "source": [
        "# Confusion matrix\n",
        "class_names = ['Sad', 'Happy']\n",
        "num_calsses = 2\n",
        "\n",
        "model = tf.keras.models.load_model('./drive/MyDrive/DeepLearning_HW3/Sentiment_Analysis/models/bert')\n",
        "[test_loss, test_accuracy] = model.evaluate(X_test, Y_test)\n",
        "print('Test Loss = ', test_loss)\n",
        "print('Test Accuracy = ', test_accuracy)\n",
        "\n",
        "predicted_Y_test = model.predict(X_test)\n",
        "confusion_matrix = tf.math.confusion_matrix(np.argmax(Y_test, axis=-1), np.argmax(predicted_Y_test, axis=-1), num_calsses).numpy()\n",
        "confusion_matrix = confusion_matrix/confusion_matrix.sum(axis=1)\n",
        "df = pd.DataFrame(confusion_matrix, index=class_names, columns=class_names)\n",
        "plt.figure(figsize=(8, 8))\n",
        "sn.heatmap(df, annot=True, cbar=False)"
      ],
      "metadata": {
        "colab": {
          "base_uri": "https://localhost:8080/",
          "height": 552
        },
        "outputId": "a14d58d6-558a-4cc4-e25e-e3fde8489d7d",
        "id": "P0uz5gHFTAHI"
      },
      "execution_count": 15,
      "outputs": [
        {
          "output_type": "stream",
          "name": "stdout",
          "text": [
            "4761/4761 [==============================] - 421s 88ms/step - loss: 0.3621 - accuracy: 0.8383\n",
            "Test Loss =  0.3621320426464081\n",
            "Test Accuracy =  0.8383177518844604\n"
          ]
        },
        {
          "output_type": "execute_result",
          "data": {
            "text/plain": [
              "<matplotlib.axes._subplots.AxesSubplot at 0x7fba54510310>"
            ]
          },
          "metadata": {},
          "execution_count": 15
        },
        {
          "output_type": "display_data",
          "data": {
            "image/png": "[encoded data removed]",
            "text/plain": [
              "<Figure size 576x576 with 1 Axes>"
            ]
          },
          "metadata": {
            "needs_background": "light"
          }
        }
      ]
    },
    {
      "cell_type": "markdown",
      "source": [
        "# Comparing the results and networks"
      ],
      "metadata": {
        "id": "k0kev9C3THPI"
      }
    },
    {
      "cell_type": "markdown",
      "source": [
        "As you can see from the above results, all four networks' results on training, validation, and test data are ok and similar to each other. For my case, first, the pyramidal model accuracy, then the bi-directional LSTM accuracy, and finally, the 1-directional LSTM accuracy increases faster.\n",
        "For the Bert model, based on our computational limitation on the google colab, we could just run the model for one epoch that took about 1 hour. But the model accuracy is as good as (or even better than) other models.\n",
        "\n",
        "One important thing for both 1-directional LSTM and bi-directional LSTM is that the training accuracy increases during the epochs and becomes something around 96%. It shows us that we can improve their accuracy on validation and test data by using dropout and adding one FC layer.\n",
        "\n",
        "Comparing the models' parameters, 1-direction LSTM contains about 300,000 trainable parameters, half of the bi-directional model.\n",
        "The pyramidal LSTM model contains about 3M parameters, and Bert has 108M!\n",
        "This difference of orders of the model's parameters can be seen in the time consumed by each network for learning the problem.\n",
        "\n",
        "All other results, confusion matrixes, accuracy, and model histories are available inside the notebook and the [ repository](https://github.com/Omid-SH/Sentiment_Analysis)."
      ],
      "metadata": {
        "id": "oyw-LU4AbhbU"
      }
    }
  ]
}